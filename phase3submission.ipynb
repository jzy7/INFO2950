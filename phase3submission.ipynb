{
 "cells": [
  {
   "cell_type": "markdown",
   "id": "27684b5c-303c-4361-afea-061932f99b90",
   "metadata": {},
   "source": [
    "## INFO 2950 Project Phase III\n",
    "Astrid Day (fkd6), Jasmine Yu (jzy7), Stephanie Zhang (swz8)"
   ]
  },
  {
   "cell_type": "markdown",
   "id": "98415f61-8294-40a2-bd1a-cbcada96fd11",
   "metadata": {},
   "source": [
    "### Preregistration Statement"
   ]
  },
  {
   "cell_type": "markdown",
   "id": "b68d9e9b-3d0d-4365-a270-ee88bb5be224",
   "metadata": {},
   "source": [
    "We will use multivariable regressions to investigate the type of Airbnb attributes that have the biggest impact on ratings when grouped together. One group we will be performing this on is host-related attributes, including host response rate, host acceptance rate, and superhost status. Another is listing-related attributes, including amenities, number of people the listing accommodates, neighborhood location, number of bedrooms, and number of bathrooms. This allows us to investigate whether these grouped Airbnb attributes together correlate with the ratings of the listing. This information will be beneficial for hosts to determine the overall type of improvements they should focus on to achieve better ratings; e.g. whether they should ensure that they perform ideally as hosts or whether they should invest more into the property itself. We will also generate a regression model between listing rating and price, deciding on the optimal model between linear, logarithmic, and exponential fits. Since we will have analyses for each of the three categories named in our research question (host attributes, listing attributes, and price), we can then conclude from the r^2 values which factors are the most salient for increasing overall listing rating. This information is not only valuable to hosts who want to maximize their success, but it also will tell us what users value the most in their Airbnb experience.\n",
    "\n",
    "We will analyze how the overall review rating of a particular Airbnb listing corresponds to the number of nights the listing is booked out for the coming year. To do so, we will plot the overall rating out of 5 stars of each listing as the x-variable, and our calculated booking percentage out of 365 days as the y-variable. We will then fit this data to a regression model, comparing linear, logarithmic, and exponential regressions to ascertain which model provides the best fit (highest r^2 value). This information is relevant because it will inform us whether higher ratings actually influence how likely Airbnb users are to book a listing. Booking percentage of a listing is what allows us to quantify host profit, since the more days their Airbnb is booked out, the more revenue they receive. It’s important for hosts to know the strength of this association so they can decide whether it’s worth investing time and money into upgrading their listing (with the intention of obtaining a higher rating); they may decide against improving their listing if a slightly higher rating doesn’t translate to a meaningful increase in profit for the host."
   ]
  },
  {
   "cell_type": "markdown",
   "id": "9a2dd91a-bb63-4ded-8c2d-391cd0e18daf",
   "metadata": {},
   "source": [
    "### Questions for Reviewers"
   ]
  },
  {
   "cell_type": "markdown",
   "id": "ed5dca8f-5204-414e-8b4c-4d9dac53f646",
   "metadata": {},
   "source": [
    "1. If we are doing multiple regressions and these have a stronger correlation than the individual regressions, should we still show all the individual regressions in our final report?\n",
    "\n",
    "2. For all data modeling is it common practice to incorperate the plot (to determine what model to use) and also the R^2 and coeff values for each?"
   ]
  }
 ],
 "metadata": {
  "kernelspec": {
   "display_name": "Python 3",
   "language": "python",
   "name": "python3"
  },
  "language_info": {
   "codemirror_mode": {
    "name": "ipython",
    "version": 3
   },
   "file_extension": ".py",
   "mimetype": "text/x-python",
   "name": "python",
   "nbconvert_exporter": "python",
   "pygments_lexer": "ipython3",
   "version": "3.8.8"
  }
 },
 "nbformat": 4,
 "nbformat_minor": 5
}
