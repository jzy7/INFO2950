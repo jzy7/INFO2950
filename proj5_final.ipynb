{
 "cells": [
  {
   "cell_type": "markdown",
   "id": "163ac650",
   "metadata": {},
   "source": [
    "# INFO 2950 Final Project<br>🌃 Exploring Airbnbs in New York City\n",
    "Astrid Day (fkd6), Jasmine Yu (jzy7), Stephanie Zhang (swz8)"
   ]
  },
  {
   "cell_type": "markdown",
   "id": "4853ff32",
   "metadata": {},
   "source": [
    "## Introduction"
   ]
  },
  {
   "cell_type": "markdown",
   "id": "b5f26db1",
   "metadata": {},
   "source": [
    "One of the top tourist destinations in the United States is New York, New York. From the bustling energy of Times Square to the Statue of Liberty’s iconic silhouette to Central Park’s lush greenery, New York City promises entertainment to guests of all ages and interests. As such, the tourism industry in New York City is immense. Prior to the coronavirus pandemic, NYC saw a record-breaking ten year period of growth in tourism, culminating in a total of 66.6 million visitors in 2019 ([Office of the New York State Controller](https://www.osc.state.ny.us/reports/osdc/tourism-industry-new-york-city)).  A crucial part of the tourism industry is the hotel industry - with such a large influx of visitors, there must be adequate lodging to support them. This can be a particular challenge for New York City, which is already densely populated and has limited physical space for expansion. As tourism continues to increase, alternative forms of housing are growing in popularity, including pod hotels, hostels, and renting individually hosted properties.\n",
    "    \n",
    "The most widespread platform for listing and renting private property is Airbnb. Airbnb was formed in 2008 by three designers who started off using their own San Francisco home as a bed-and-breakfast to bring in additional income to pay for rent. Recognizing the market potential of their idea, the founders launched the startup Air Bed & Breakfast, which subsequently became Airbnb in 2009. Airbnb does not own any of the properties listed on its website; it simply serves as an interface for connecting people who have extra space they want to rent out with people who are traveling and need a place to stay. Airbnb is free to use and involves a straightforward online account sign-up. Potential guests enter their desired location and their period of stay to populate a list of available Airbnb properties that they can then browse and filter through. Upon finding a property they’re interested in, guests send a request to the host, who can then approve or deny the booking. On the whole, an Airbnb stay tends to be cheaper than rooming at a standard hotel, and Airbnbs also offer the appeal of additional amenities and unique personalization or character.\n",
    "    \n",
    "Hosting an Airbnb can be a profitable side business for those with extra room to spare or who are interested in converting an additional property into a rental. [A 2019 study conducted by Earnest.com](https://www.earnest.com/blog/sharing-economy-income-data/) found that on average Airbnb hosts make \\\\$924 a month, which is nearly three times as much as the average earnings of other positions in the sharing economy (sharing economy refers to the market space of temporary workers who offer some service using their existing assets; in layman’s terms, a “side hustle”), such as Doordashers, Lyft and Uber drivers, and Etsy shop owners. However, this \\\\$924 income is extremely variable depending on where the listing is based, the frequency at which it’s rented out, and the quality of the listing.\n",
    "    \n",
    "With the tourist demand of New York City and the potential profit of Airbnb hosting in mind, we were curious as to how potential hosts in New York City could offer an optimal - and profitable - stay to guests. New York City offers an ideal backdrop for us to conduct our study, as there is a consistent year-round need for lodging. Since our dataset of focus does not include directly accessible information about host profit (this is private and protected information that cannot simply be scraped from Airbnb’s website), we approach Airbnb listings first on the basis of rating, considering nine different variables that might influence the overall rating out of 5 stars achieved by a listing. Note that all values in the dataset represent the standings as of September 1 2021, which is when the creator of the dataset most recently scraped Airbnb’s website. Specifically, we examined the following variables: \n",
    "    \n",
    "* Percentage of guest messages hosts responded to\n",
    "* Percentage of booking requests host accepted\n",
    "* Whether the host was designated as a superhost by Airbnb (a title that’s designated on the basis of experience and level of activity over the course of one year)\n",
    "* Neighborhood (borough) of New York City in which the listing is located\n",
    "* Number of guests accommodated\n",
    "* Number of bedrooms\n",
    "* Number of bathrooms\n",
    "* Amenities offered (within which we identified five popular amenities to screen for, listed below)\n",
    "    * Pets allowed\n",
    "    * WiFi\n",
    "    * Parking available\n",
    "    * Pool\n",
    "    * Kitchen\n",
    "    * Air conditioning\n",
    "* Price per night.\n",
    "\n",
    "To analyze each of the above factors, we calculated summary statistics to capture the overall distribution among all New York City Airbnbs, visualized each factor in relation to the overall Airbnb rating, and calculated covariance and correlation statistics. Because our goal is to be able to offer advice to Airbnb hosts on how to improve their listing’s rating, we fitted regression models to each of the listed variables as predictors of overall rating. Given that guests typically rate Airbnbs based on the big picture of their experience and not singular aspects, we performed a multivariable analysis to look at how these qualities work in tandem to influence guest satisfaction. In conducting these analyses, we sought to determine whether there was a significant difference in rating based on any of the attributes individually or in combination.\n",
    "    \n",
    "An important follow-up to our exploration of rating is the determination of whether ratings have a meaningful impact on how often a listing is booked, which translates to how much profit the host can make. This was an essential analysis to perform because Airbnb hosts would only want to invest time and resources into improving their rating if it ultimately equates to making more money and getting a return on their investment. We manipulated a dataset from the same source to calculate the percentage of nights out of the next 365 days that each Airbnb listing was booked out for. By examining the relationship between the overall listing rating out of 5 stars and the booking percentage, we aimed to find out whether there was a significant relationship between these two variables.\n",
    "\n",
    "To follow up on our linear and logistic predictive modeling, we evaluated significance using analysis of variance (ANOVA). These methods of determining statistical difference provide us with another way to consider whether each of our analyzed variables have a bearing on overall Airbnb rating and whether rating then affects booking performance.\n",
    "    \n",
    "Through the process and results of this study, we hope to answer the overarching questions: “What factors most influence the ratings of Airbnb listings in New York City? How do these ratings in turn influence the booking rate of listings?”. To provide more specificity and direction, we defined secondary questions that we targeted during our analysis:\n",
    "* By grouping the factors\\* into broad categories of host attributes (host response percentage, host acceptance percentage, and superhost status) and listing attributes (neighborhood, number of guests accommodated, number of bedrooms, number of bathrooms, and amenities), can a more specialized relationship with rating be identified? \n",
    "    * \\*Price was not grouped and was instead treated individually, since it falls outside of both host behaviors and physical qualities of the rental property.\n",
    "* Between host attributes, listing attributes, and pricing, which has the greatest impact on overall Airbnb rating?\n",
    "\n",
    "The study that follows and our subsequent findings may be particularly applicable to people seeking to host Airbnbs in New York City, but our analysis also brings up interesting insights for anyone who is involved in or has interacted with the tourism and hotel industries of America."
   ]
  },
  {
   "cell_type": "markdown",
   "id": "dff2814b",
   "metadata": {},
   "source": [
    "## Table of Contents"
   ]
  },
  {
   "cell_type": "markdown",
   "id": "179e6088",
   "metadata": {},
   "source": [
    "* Introduction\n",
    "* Data Description\n",
    "* Preregistration Statement\n",
    "* Data Cleaning\n",
    "* Data Analysis\n",
    "    * I. Individual predictors of Airbnb rating\n",
    "        * *A. Host attributes*\n",
    "        * *B. Listing attributes*\n",
    "        * *C. Price*\n",
    "    * II. Multivariable modeling of Airbnb rating\n",
    "        * *A. Linear regression*\n",
    "        * *B. Logistic regression*\n",
    "    * III. Airbnb rating as a predictor of booking rate\n",
    "        * *A. Summary statistics*\n",
    "        * *B. Linear regression*\n",
    "        * *C. Logistic regression*\n",
    "    * IV. Evaluation of significance\n",
    "        * *A. Host attributes*\n",
    "        * *B. Listing attributes*\n",
    "        * *C. Price*\n",
    "        * *D. Ratings vs. booking rate*\n",
    "* Interpretation and Conclusions\n",
    "* Data Limitations\n",
    "* Looking to the Future\n",
    "* Source Code\n",
    "* Acknowledgements"
   ]
  },
  {
   "cell_type": "markdown",
   "id": "8e64cb12",
   "metadata": {},
   "source": [
    "## Data Description"
   ]
  },
  {
   "cell_type": "markdown",
   "id": "d881723f",
   "metadata": {},
   "source": [
    "* _What are the observations (rows) and the attributes (columns)?_\n",
    "    * Each observation is an Airbnb listing in New York City, New York as of September 1 2021.\n",
    "    * The columns are descriptions and statistics of each Airbnb listing, including unique identifiers of the listing and host, host profile information, listing characteristics such as neighborhood, amenities, and pricing, rating information, and booking availability.<br><br>\n",
    "* _Why was this dataset created?_\n",
    "    * This dataset is made available by the Inside Airbnb project, which seeks to analyze how Airbnb rentals are affecting housing and residential communities and markets across some major cities, as well as support advocacy for the protection of cities from the impact of short-term rentals.<br><br>\n",
    "* _Who funded the creation of the dataset?_\n",
    "    * Murray Cox, a self-proclaimed independent digital storyteller, community activist, and technologist personally funded, compiled, and analyzed the data. Cox’s idea for the project was sparked by his work on community mapping of gentrification in NYC and the impact of community mapping on the public.\n",
    "    * The creation of the dataset was not associated with or endorsed by Airbnb.<br><br>\n",
    "* _What processes might have influenced what data was observed and recorded and what was not?_\n",
    "    * The data is a snapshot, a scraping of the Airbnb website at a particular date and time.\n",
    "    * Listings are subject to deletion and modification (i.e. if a new amenity such as parking is added), and calendar availability is frequently updated as new bookings are made.\n",
    "    * All data comes from public information available on the Airbnb website; no “private” information was accessible, limiting the amount we know about host profit from listings.<br><br>\n",
    "* _What preprocessing was done, and how did the data come to be in the form that you are using?_\n",
    "    * After scraping from the Airbnb website, the data was verified, cleansed, analyzed, and aggregated by Murray Cox/the Inside Airbnb project team.<br><br>\n",
    "* _If people are involved, were they aware of the data collection and if so, what purpose did they expect the data to be used for?_\n",
    "    * Each host recognizes the public availability of their information, both as a host and for their listing(s), on the public Airbnb website. However, they were probably not aware of the scraping and analysis of their data for the purposes of this particular Inside Airbnb project.<br><br>\n",
    "* _Where can your raw source data be found?_\n",
    "    * [Inside Airbnb Data](http://insideairbnb.com/get-the-data.html): Project from which our data was sourced; more datasets available for multiple cities, scraped on multiple dates\n",
    "    * [Listings and calendar data from New York City, NY as of September 1 2021](https://drive.google.com/drive/folders/1BTHUg-0vB16RbKncugfr_QXhiBJmoitg?usp=sharing): Google drive folder with the two dataset files used in this project<br><br>\n",
    "* _How many instances are there in total (of each type, if appropriate)?_\n",
    "    * There are 14,935 Airbnb listings included in our clean dataset.<br><br>\n",
    "* _Does the dataset contain all possible instances or is it a sample of instances from a larger set?_\n",
    "    * After cleaning, the dataset is a sample of the Airbnb listings available in New York City as of September 1, 2021."
   ]
  },
  {
   "cell_type": "markdown",
   "id": "59a81a59",
   "metadata": {},
   "source": [
    "## Preregistration Statement"
   ]
  },
  {
   "cell_type": "markdown",
   "id": "276888e2",
   "metadata": {},
   "source": [
    "We will use multivariable regressions to investigate the type of Airbnb attributes that have the biggest impact on ratings when grouped together. One group we will be performing this on is host-related attributes, including host response rate, host acceptance rate, and superhost status. Another is listing-related attributes, including amenities, number of people the listing accommodates, neighborhood location, number of bedrooms, and number of bathrooms. This allows us to investigate whether these grouped Airbnb attributes together correlate with the ratings of the listing. This information will be beneficial for hosts to determine the overall type of improvements they should focus on to achieve better ratings; e.g. whether they should ensure that they perform ideally as hosts or whether they should invest more into the property itself. We will also generate a regression model between listing rating and price, deciding on the optimal model between multiple fits. Since we will have analyses for each of the three categories named in our research question (host attributes, listing attributes, and price), we can then conclude from the r^2 values which factors are the most salient for increasing overall listing rating. This information is not only valuable to hosts who want to maximize their success, but it also will tell us what users value the most in their Airbnb experience.\n",
    "\n",
    "We will analyze how the overall review rating of a particular Airbnb listing corresponds to the number of nights the listing is booked out for the coming year. To do so, we will plot the overall rating out of 5 stars of each listing as the x-variable, and our calculated booking percentage out of 365 days as the y-variable. We will then fit this data to a regression model, comparing linear, logarithmic, and exponential regressions to ascertain which model provides the best fit (highest r^2 value). This information is relevant because it will inform us whether higher ratings actually influence how likely Airbnb users are to book a listing. Booking percentage of a listing is what allows us to quantify host profit, since the more days their Airbnb is booked out, the more revenue they receive. It’s important for hosts to know the strength of this association so they can decide whether it’s worth investing time and money into upgrading their listing (with the intention of obtaining a higher rating); they may decide against improving their listing if a slightly higher rating doesn’t translate to a meaningful increase in profit for the host."
   ]
  },
  {
   "cell_type": "markdown",
   "id": "e1f88cbe",
   "metadata": {},
   "source": [
    "## Data Cleaning"
   ]
  },
  {
   "cell_type": "markdown",
   "id": "1f34dd7d",
   "metadata": {},
   "source": [
    "This project utilizes two datasets: one that contains detailed, comprehensive description about each Airbnb listing in New York City (listings.csv) and one that is specific to calendar booking availability and related information (calendar.csv). To begin, the necessary libraries are loaded and the datasets are read into Pandas dataframes and saved as Python variables."
   ]
  },
  {
   "cell_type": "code",
   "execution_count": 1,
   "id": "cbc42b19",
   "metadata": {},
   "outputs": [],
   "source": [
    "# Load all the necessary libraries\n",
    "import pandas as pd\n",
    "import numpy as np\n",
    "import matplotlib.pyplot as plt\n",
    "from scipy import stats\n",
    "from scipy.stats import f_oneway, chi2_contingency, ttest_ind\n",
    "import re\n",
    "import seaborn as sns\n",
    "from sklearn.linear_model import LinearRegression, LogisticRegression\n",
    "from sklearn.model_selection import train_test_split, cross_val_score\n",
    "sns.set_style('white')"
   ]
  },
  {
   "cell_type": "code",
   "execution_count": 2,
   "id": "da6afe57",
   "metadata": {},
   "outputs": [],
   "source": [
    "#Load the datasets\n",
    "listings_original = pd.read_csv('listings.csv')\n",
    "bookings_original = pd.read_csv('calendar.csv')"
   ]
  },
  {
   "cell_type": "markdown",
   "id": "da8e9b70",
   "metadata": {},
   "source": [
    "The listing information dataset contains the bulk of the data pertinent to our analysis, as well as a significant number of extraneous attributes. We subsetted the loaded \"listings_original\" dataframe to only contain the relevant columns we need, and saved that as the variable \"listings_clean\". The columns were then renamed to more understandable and representative names. Not every listing had information available in all of the columns for analysis, so without a reasonable way to extrapolate or assume the missing entries, we dropped all listings with NaN entries."
   ]
  },
  {
   "cell_type": "code",
   "execution_count": 3,
   "id": "618f09d1",
   "metadata": {},
   "outputs": [],
   "source": [
    "#Listings dataset cleaning\n",
    "listings_clean = listings_original[['id', 'name', 'host_id', 'host_response_rate', 'host_acceptance_rate', 'host_is_superhost', 'neighbourhood_group_cleansed', 'accommodates', 'bathrooms_text', 'bedrooms', 'amenities', 'price', 'minimum_nights', 'number_of_reviews', 'review_scores_rating', 'review_scores_accuracy', 'review_scores_cleanliness', 'review_scores_checkin', 'review_scores_communication', 'review_scores_location', 'review_scores_value', 'reviews_per_month']].copy()\n",
    "listings_clean.rename(columns={'bathrooms_text':'bathrooms', 'host_response_rate':'host_response_percent', 'host_acceptance_rate':'host_acceptance_percent'}, inplace=True)\n",
    "listings_clean = listings_clean.dropna()"
   ]
  },
  {
   "cell_type": "markdown",
   "id": "67ff9fe5",
   "metadata": {},
   "source": [
    "Originally, the \"bathrooms\" column contained strings specifying the number of bathrooms. We converted values in the \"bathrooms\" column to be just the number of bathrooms (of type float). In the column, we gathered that the values that only contained letters were \"Half-bath\", \"Shared half-bath\", and \"Private half-bath\". We interpreted these all to be half baths and replaced them with the value 0.5. We then went through the rest of the column and removed all letters in the values, keeping only the numbers in the values. We converted these numbers to be of the float type, so that they directly represent the number of bathrooms of each listing. This will make it easier to perform analyses based on the number of bathrooms."
   ]
  },
  {
   "cell_type": "code",
   "execution_count": 4,
   "id": "7bd6fa24",
   "metadata": {},
   "outputs": [],
   "source": [
    "#Convert bathrooms column into floats\n",
    "listings_clean['bathrooms'].replace('Half-bath', '0.5', inplace=True)\n",
    "listings_clean['bathrooms'].replace('Shared half-bath', '0.5', inplace=True)\n",
    "listings_clean['bathrooms'].replace('Private half-bath', '0.5', inplace=True)\n",
    "for i in listings_clean.index:\n",
    "    listings_clean.loc[i, 'bathrooms'] = re.sub(\"[^0-9,.]\", \"\", listings_clean.loc[i, 'bathrooms'])\n",
    "listings_clean['bathrooms'] = pd.to_numeric(listings_clean['bathrooms'], downcast=\"float\")"
   ]
  },
  {
   "cell_type": "markdown",
   "id": "ad8d0837",
   "metadata": {},
   "source": [
    "We converted the values of the \"price\" column to be floats directly representing the price of each listing, dropping all other characters. This will make it easier to perform analyses based on the price."
   ]
  },
  {
   "cell_type": "code",
   "execution_count": 5,
   "id": "a50403cf",
   "metadata": {},
   "outputs": [],
   "source": [
    "#Convert price column into floats\n",
    "for i in listings_clean.index:\n",
    "    listings_clean.loc[i, 'price'] = listings_clean.loc[i, 'price'].strip(\"$\").replace(\",\", \"\")\n",
    "listings_clean['price'] = pd.to_numeric(listings_clean['price'], downcast=\"float\")"
   ]
  },
  {
   "cell_type": "markdown",
   "id": "894fcf3e",
   "metadata": {},
   "source": [
    "We converted the values of the \"host_response_percent\" and \"host_acceptance_percent\" columns to be floats representing each respective percentage, dropping all other characters. This will make it easier to perform analyses based on the percentages, without interference from string characters such as \"%\"."
   ]
  },
  {
   "cell_type": "code",
   "execution_count": 6,
   "id": "a36a9995",
   "metadata": {},
   "outputs": [],
   "source": [
    "#Convert host response and acceptance percents into floats\n",
    "for i in listings_clean.index:\n",
    "    listings_clean.loc[i, 'host_response_percent'] = listings_clean.loc[i, 'host_response_percent'].strip(\"%\")\n",
    "    listings_clean.loc[i, 'host_acceptance_percent'] = listings_clean.loc[i, 'host_acceptance_percent'].strip(\"%\")\n",
    "listings_clean['host_response_percent'] = pd.to_numeric(listings_clean['host_response_percent'], downcast=\"float\")\n",
    "listings_clean['host_acceptance_percent'] = pd.to_numeric(listings_clean['host_acceptance_percent'], downcast=\"float\")"
   ]
  },
  {
   "cell_type": "markdown",
   "id": "20572758",
   "metadata": {},
   "source": [
    "The dataset contained in \"bookings_original\" is only relevant to us for the purpose of calculating and analyzing the booking rate of each Airbnb listing, so we subsetted \"bookings_original\" to drop all columns other than the columns \"listing_id\" and \"available\", which is a column of booleans characterizing the availability of the listing by date. The \"listing_id\" column was renamed \"id\" to match the listings dataframe.<br>\n",
    "To count how many days each listing was booked for during the provided timeframe of September 2 2021 to September 2 2022, we first subsetted the dataset to keep only the instances for which a listing was booked (false for availability). Then, we created a groupby object that counted the number of 'f's appearing for each listing id. By counting the number of values in the groupby object, we created a new dataframe with the desired column \"days_booked\". Subsequently, we were able to add a column for availability percentage by dividing the number of days each listing was booked by 365. These steps gave us a bookings dataframe ready to merge with the listings dataframe."
   ]
  },
  {
   "cell_type": "code",
   "execution_count": 7,
   "id": "731d586b",
   "metadata": {},
   "outputs": [],
   "source": [
    "#Bookings dataset cleaning\n",
    "bookings_clean = bookings_original[['listing_id', 'available']].copy()\n",
    "bookings_clean.rename(columns={'listing_id':'id'}, inplace=True)\n",
    "booked_gb = bookings_clean[bookings_clean['available'] == 'f'].groupby('id')\n",
    "booked_df = booked_gb['available'].value_counts().to_frame()\n",
    "booked_df.rename(columns={'available':'days_booked'}, inplace=True)\n",
    "booked_df['percent_booked'] = round((booked_df['days_booked'] / 365) * 100, 2)\n",
    "booked_df = booked_df.dropna()"
   ]
  },
  {
   "cell_type": "markdown",
   "id": "5a4748eb",
   "metadata": {},
   "source": [
    "We inner joined the listings dataframe and the booking availability dataframe based on the common \"id\" column. This method retains only the listings shared between the two dataframes, and therefore returns us a dataframe where all observations have complete entries in each column."
   ]
  },
  {
   "cell_type": "code",
   "execution_count": 8,
   "id": "df0bd18b",
   "metadata": {},
   "outputs": [
    {
     "data": {
      "text/html": [
       "<div>\n",
       "<style scoped>\n",
       "    .dataframe tbody tr th:only-of-type {\n",
       "        vertical-align: middle;\n",
       "    }\n",
       "\n",
       "    .dataframe tbody tr th {\n",
       "        vertical-align: top;\n",
       "    }\n",
       "\n",
       "    .dataframe thead th {\n",
       "        text-align: right;\n",
       "    }\n",
       "</style>\n",
       "<table border=\"1\" class=\"dataframe\">\n",
       "  <thead>\n",
       "    <tr style=\"text-align: right;\">\n",
       "      <th></th>\n",
       "      <th>id</th>\n",
       "      <th>name</th>\n",
       "      <th>host_id</th>\n",
       "      <th>host_response_percent</th>\n",
       "      <th>host_acceptance_percent</th>\n",
       "      <th>host_is_superhost</th>\n",
       "      <th>neighbourhood_group_cleansed</th>\n",
       "      <th>accommodates</th>\n",
       "      <th>bathrooms</th>\n",
       "      <th>bedrooms</th>\n",
       "      <th>...</th>\n",
       "      <th>review_scores_rating</th>\n",
       "      <th>review_scores_accuracy</th>\n",
       "      <th>review_scores_cleanliness</th>\n",
       "      <th>review_scores_checkin</th>\n",
       "      <th>review_scores_communication</th>\n",
       "      <th>review_scores_location</th>\n",
       "      <th>review_scores_value</th>\n",
       "      <th>reviews_per_month</th>\n",
       "      <th>days_booked</th>\n",
       "      <th>percent_booked</th>\n",
       "    </tr>\n",
       "  </thead>\n",
       "  <tbody>\n",
       "    <tr>\n",
       "      <th>0</th>\n",
       "      <td>3831</td>\n",
       "      <td>Whole flr w/private bdrm, bath &amp; kitchen(pls r...</td>\n",
       "      <td>4869</td>\n",
       "      <td>50.0</td>\n",
       "      <td>86.0</td>\n",
       "      <td>f</td>\n",
       "      <td>Brooklyn</td>\n",
       "      <td>3</td>\n",
       "      <td>1.0</td>\n",
       "      <td>1.0</td>\n",
       "      <td>...</td>\n",
       "      <td>4.46</td>\n",
       "      <td>4.59</td>\n",
       "      <td>4.50</td>\n",
       "      <td>4.79</td>\n",
       "      <td>4.81</td>\n",
       "      <td>4.72</td>\n",
       "      <td>4.65</td>\n",
       "      <td>5.03</td>\n",
       "      <td>157</td>\n",
       "      <td>43.01</td>\n",
       "    </tr>\n",
       "    <tr>\n",
       "      <th>1</th>\n",
       "      <td>5136</td>\n",
       "      <td>Spacious Brooklyn Duplex, Patio + Garden</td>\n",
       "      <td>7378</td>\n",
       "      <td>50.0</td>\n",
       "      <td>33.0</td>\n",
       "      <td>f</td>\n",
       "      <td>Brooklyn</td>\n",
       "      <td>4</td>\n",
       "      <td>1.5</td>\n",
       "      <td>2.0</td>\n",
       "      <td>...</td>\n",
       "      <td>5.00</td>\n",
       "      <td>5.00</td>\n",
       "      <td>5.00</td>\n",
       "      <td>5.00</td>\n",
       "      <td>5.00</td>\n",
       "      <td>4.50</td>\n",
       "      <td>5.00</td>\n",
       "      <td>0.02</td>\n",
       "      <td>161</td>\n",
       "      <td>44.11</td>\n",
       "    </tr>\n",
       "    <tr>\n",
       "      <th>2</th>\n",
       "      <td>5178</td>\n",
       "      <td>Large Furnished Room Near B'way</td>\n",
       "      <td>8967</td>\n",
       "      <td>100.0</td>\n",
       "      <td>100.0</td>\n",
       "      <td>f</td>\n",
       "      <td>Manhattan</td>\n",
       "      <td>2</td>\n",
       "      <td>1.0</td>\n",
       "      <td>1.0</td>\n",
       "      <td>...</td>\n",
       "      <td>4.21</td>\n",
       "      <td>4.20</td>\n",
       "      <td>3.73</td>\n",
       "      <td>4.66</td>\n",
       "      <td>4.40</td>\n",
       "      <td>4.86</td>\n",
       "      <td>4.36</td>\n",
       "      <td>3.64</td>\n",
       "      <td>122</td>\n",
       "      <td>33.42</td>\n",
       "    </tr>\n",
       "    <tr>\n",
       "      <th>3</th>\n",
       "      <td>5803</td>\n",
       "      <td>Lovely Room 1, Garden, Best Area, Legal rental</td>\n",
       "      <td>9744</td>\n",
       "      <td>100.0</td>\n",
       "      <td>100.0</td>\n",
       "      <td>t</td>\n",
       "      <td>Brooklyn</td>\n",
       "      <td>2</td>\n",
       "      <td>1.5</td>\n",
       "      <td>1.0</td>\n",
       "      <td>...</td>\n",
       "      <td>4.70</td>\n",
       "      <td>4.71</td>\n",
       "      <td>4.62</td>\n",
       "      <td>4.80</td>\n",
       "      <td>4.82</td>\n",
       "      <td>4.86</td>\n",
       "      <td>4.74</td>\n",
       "      <td>1.44</td>\n",
       "      <td>32</td>\n",
       "      <td>8.77</td>\n",
       "    </tr>\n",
       "    <tr>\n",
       "      <th>4</th>\n",
       "      <td>6990</td>\n",
       "      <td>UES Beautiful Blue Room</td>\n",
       "      <td>16800</td>\n",
       "      <td>100.0</td>\n",
       "      <td>100.0</td>\n",
       "      <td>f</td>\n",
       "      <td>Manhattan</td>\n",
       "      <td>1</td>\n",
       "      <td>1.0</td>\n",
       "      <td>1.0</td>\n",
       "      <td>...</td>\n",
       "      <td>4.88</td>\n",
       "      <td>4.81</td>\n",
       "      <td>4.96</td>\n",
       "      <td>4.96</td>\n",
       "      <td>4.95</td>\n",
       "      <td>4.84</td>\n",
       "      <td>4.84</td>\n",
       "      <td>1.86</td>\n",
       "      <td>78</td>\n",
       "      <td>21.37</td>\n",
       "    </tr>\n",
       "  </tbody>\n",
       "</table>\n",
       "<p>5 rows × 24 columns</p>\n",
       "</div>"
      ],
      "text/plain": [
       "     id                                               name  host_id  \\\n",
       "0  3831  Whole flr w/private bdrm, bath & kitchen(pls r...     4869   \n",
       "1  5136           Spacious Brooklyn Duplex, Patio + Garden     7378   \n",
       "2  5178                   Large Furnished Room Near B'way　     8967   \n",
       "3  5803     Lovely Room 1, Garden, Best Area, Legal rental     9744   \n",
       "4  6990                            UES Beautiful Blue Room    16800   \n",
       "\n",
       "   host_response_percent  host_acceptance_percent host_is_superhost  \\\n",
       "0                   50.0                     86.0                 f   \n",
       "1                   50.0                     33.0                 f   \n",
       "2                  100.0                    100.0                 f   \n",
       "3                  100.0                    100.0                 t   \n",
       "4                  100.0                    100.0                 f   \n",
       "\n",
       "  neighbourhood_group_cleansed  accommodates  bathrooms  bedrooms  ...  \\\n",
       "0                     Brooklyn             3        1.0       1.0  ...   \n",
       "1                     Brooklyn             4        1.5       2.0  ...   \n",
       "2                    Manhattan             2        1.0       1.0  ...   \n",
       "3                     Brooklyn             2        1.5       1.0  ...   \n",
       "4                    Manhattan             1        1.0       1.0  ...   \n",
       "\n",
       "  review_scores_rating  review_scores_accuracy  review_scores_cleanliness  \\\n",
       "0                 4.46                    4.59                       4.50   \n",
       "1                 5.00                    5.00                       5.00   \n",
       "2                 4.21                    4.20                       3.73   \n",
       "3                 4.70                    4.71                       4.62   \n",
       "4                 4.88                    4.81                       4.96   \n",
       "\n",
       "   review_scores_checkin  review_scores_communication  review_scores_location  \\\n",
       "0                   4.79                         4.81                    4.72   \n",
       "1                   5.00                         5.00                    4.50   \n",
       "2                   4.66                         4.40                    4.86   \n",
       "3                   4.80                         4.82                    4.86   \n",
       "4                   4.96                         4.95                    4.84   \n",
       "\n",
       "   review_scores_value  reviews_per_month  days_booked  percent_booked  \n",
       "0                 4.65               5.03          157           43.01  \n",
       "1                 5.00               0.02          161           44.11  \n",
       "2                 4.36               3.64          122           33.42  \n",
       "3                 4.74               1.44           32            8.77  \n",
       "4                 4.84               1.86           78           21.37  \n",
       "\n",
       "[5 rows x 24 columns]"
      ]
     },
     "execution_count": 8,
     "metadata": {},
     "output_type": "execute_result"
    }
   ],
   "source": [
    "#Merge listings and bookings datasets\n",
    "airbnb_data = pd.merge(listings_clean, booked_df, on='id', how='inner')\n",
    "airbnb_data.head()"
   ]
  },
  {
   "cell_type": "markdown",
   "id": "ff211965",
   "metadata": {},
   "source": [
    "## Data Analysis"
   ]
  },
  {
   "cell_type": "markdown",
   "id": "3699a23b",
   "metadata": {},
   "source": [
    "### I. Individual predictors of Airbnb rating\n",
    "To begin our exploration and analysis of the data, we approached variables individually, calculating overall summary statistics to gain an understanding of each variable's distribution. To examine the relation between each variable and overall Airbnb rating, we measured correlation and covariance, then attempted to fit a simple linear regression model."
   ]
  },
  {
   "cell_type": "markdown",
   "id": "43f5cf43",
   "metadata": {},
   "source": [
    "### *A. Host Attributes*"
   ]
  },
  {
   "cell_type": "markdown",
   "id": "b29baa24",
   "metadata": {},
   "source": [
    "**_Ratings by host response percentage:_**"
   ]
  },
  {
   "cell_type": "code",
   "execution_count": 9,
   "id": "ccc8b3f3",
   "metadata": {},
   "outputs": [
    {
     "name": "stdout",
     "output_type": "stream",
     "text": [
      "Average host response percentage: 90.734%\n",
      "Median host response percentage: 100.000%\n",
      "Standard deviation of host response percentage: 21.355%\n"
     ]
    }
   ],
   "source": [
    "# Analysis of ratings by host response percentage\n",
    "response_mean = airbnb_data['host_response_percent'].mean()\n",
    "response_median = airbnb_data['host_response_percent'].median()\n",
    "response_std = airbnb_data['host_response_percent'].std()\n",
    "print('Average host response percentage: {:.3f}%'.format(response_mean))\n",
    "print('Median host response percentage: {:.3f}%'.format(response_median))\n",
    "print('Standard deviation of host response percentage: {:.3f}%'.format(response_std))"
   ]
  },
  {
   "cell_type": "markdown",
   "id": "6b090c76",
   "metadata": {},
   "source": [
    "To give us a general idea of the typical host response percentage, we first calculated mean, median, and standard deviation of the \"host_response_percent\" column. Overall, host response percentages are very high and most hosts have a 100% response rate."
   ]
  },
  {
   "cell_type": "code",
   "execution_count": 10,
   "id": "c9f41231",
   "metadata": {},
   "outputs": [
    {
     "data": {
      "image/png": "[encoded data removed]",
      "text/plain": [
       "<Figure size 432x288 with 1 Axes>"
      ]
     },
     "metadata": {},
     "output_type": "display_data"
    },
    {
     "name": "stdout",
     "output_type": "stream",
     "text": [
      "Regression Slope: [0.002]\n",
      "r^2: 0.011\n"
     ]
    }
   ],
   "source": [
    "# Scatterplot of ratings by host response percentage\n",
    "sns.regplot(x = airbnb_data['host_response_percent'], y = airbnb_data['review_scores_rating'], scatter_kws={'alpha': 0.05}, line_kws={'color': 'red'})\n",
    "\n",
    "# Regression analysis\n",
    "learner = LinearRegression()\n",
    "learner.fit(airbnb_data[['host_response_percent']], airbnb_data[['review_scores_rating']])\n",
    "predicted_rating = learner.predict(airbnb_data[['host_response_percent']])\n",
    "\n",
    "plt.xlabel('Host Response Percentage')\n",
    "plt.ylabel('Overall Airbnb Rating')\n",
    "plt.title('Host Response Percentage Versus Airbnb Rating')\n",
    "plt.show()\n",
    "\n",
    "print('Regression Slope:', learner.coef_[0].round(3))\n",
    "print('r^2:', round(learner.score(airbnb_data[['host_response_percent']], airbnb_data[['review_scores_rating']]),3))"
   ]
  },
  {
   "cell_type": "markdown",
   "id": "d7ef5372",
   "metadata": {},
   "source": [
    "The linear regression model for host response percentage generates a line of best fit with a very small slope, 0.002, which is essentially 0. This lack of a linear relationship between host response percentage and overall Airbnb rating is reflected in the poor r^2 value of 0.011. Note from the scatterplot that most of the data points are concentrated on the far right (higher host response percentages), which warns us that the data is not evenly distributed."
   ]
  },
  {
   "cell_type": "code",
   "execution_count": 11,
   "id": "fb17ed95",
   "metadata": {},
   "outputs": [
    {
     "name": "stdout",
     "output_type": "stream",
     "text": [
      "Covariance between host response percentage and Airbnb rating: 1.125\n",
      "Pearson correlation between host response percentage and Airbnb rating: 0.106\n"
     ]
    }
   ],
   "source": [
    "# Covariance and correlation statistics\n",
    "cov_response = (airbnb_data['host_response_percent'].astype(float)).cov(airbnb_data['review_scores_rating'].astype(float))\n",
    "pcorr_response = (airbnb_data['host_response_percent'].astype(float)).corr(airbnb_data['review_scores_rating'].astype(float))\n",
    "print('Covariance between host response percentage and Airbnb rating: {:.3f}'.format(cov_response))\n",
    "print('Pearson correlation between host response percentage and Airbnb rating: {:.3f}'.format(pcorr_response))"
   ]
  },
  {
   "cell_type": "markdown",
   "id": "81418336",
   "metadata": {},
   "source": [
    "The Pearson correlation value for host response percentage and overall review rating was found to be 0.106, which is close to 0 and does not suggest a very notable positive relationship. However, given that this value is not negligible and is furthermore much higher than some of the following correlations we calculated for other variables, host response percentage may be one of the more influential factors on an Airbnb's rating. This potential significance is reiterated by the relatively high (with respect to the other variables analyzed) covariance value of 1.125."
   ]
  },
  {
   "cell_type": "markdown",
   "id": "99141ce3",
   "metadata": {},
   "source": [
    "**_Ratings by host acceptance percentage:_**"
   ]
  },
  {
   "cell_type": "code",
   "execution_count": 12,
   "id": "2b6a20b1",
   "metadata": {},
   "outputs": [
    {
     "name": "stdout",
     "output_type": "stream",
     "text": [
      "Average host acceptance percentage: 79.128%\n",
      "Median host acceptance percentage: 90.000%\n",
      "Standard deviation of host acceptance percentage: 27.256%\n"
     ]
    }
   ],
   "source": [
    "# Analysis of ratings by host acceptance percentage\n",
    "acceptance_mean = airbnb_data['host_acceptance_percent'].mean()\n",
    "acceptance_median = airbnb_data['host_acceptance_percent'].median()\n",
    "acceptance_std = airbnb_data['host_acceptance_percent'].std()\n",
    "print('Average host acceptance percentage: {:.3f}%'.format(acceptance_mean))\n",
    "print('Median host acceptance percentage: {:.3f}%'.format(acceptance_median))\n",
    "print('Standard deviation of host acceptance percentage: {:.3f}%'.format(acceptance_std))"
   ]
  },
  {
   "cell_type": "markdown",
   "id": "77a6028c",
   "metadata": {},
   "source": [
    "Based on the calculated mean, median, and standard deviation of the \"host_acceptance_percent\" column shown above, we can tell that hosts typically accept the majority of the booking requests they receive. The most frequent (median) host acceptance percentage is very high, at 90%."
   ]
  },
  {
   "cell_type": "code",
   "execution_count": 13,
   "id": "0b7b081e",
   "metadata": {},
   "outputs": [
    {
     "data": {
      "image/png": "[encoded data removed]",
      "text/plain": [
       "<Figure size 432x288 with 1 Axes>"
      ]
     },
     "metadata": {},
     "output_type": "display_data"
    },
    {
     "name": "stdout",
     "output_type": "stream",
     "text": [
      "Regression Slope: [-0.]\n",
      "r^2: 0.0\n"
     ]
    }
   ],
   "source": [
    "# Scatterplot of ratings by host acceptance percentage\n",
    "sns.regplot(x = airbnb_data['host_acceptance_percent'], y = airbnb_data['review_scores_rating'], scatter_kws={'alpha': 0.05}, line_kws={'color': 'red'})\n",
    "\n",
    "# Regression analysis\n",
    "learner = LinearRegression()\n",
    "learner.fit(airbnb_data[['host_acceptance_percent']], airbnb_data[['review_scores_rating']])\n",
    "predicted_rating = learner.predict(airbnb_data[['host_acceptance_percent']])\n",
    "\n",
    "plt.xlabel('Host Acceptance Percentage')\n",
    "plt.ylabel('Overall Airbnb Rating')\n",
    "plt.title('Host Acceptance Percentage Versus Airbnb Rating')\n",
    "plt.show()\n",
    "\n",
    "print('Regression Slope:', learner.coef_[0].round(3))\n",
    "print('r^2:', round(learner.score(airbnb_data[['host_acceptance_percent']], airbnb_data[['review_scores_rating']]),3))"
   ]
  },
  {
   "cell_type": "markdown",
   "id": "cf0b385e",
   "metadata": {},
   "source": [
    "Host acceptance percentage as a predictor for rating is not suited to a linear regression model. In fact, the regression slope and r^2 values are both 0, indicating a complete lack of correlation."
   ]
  },
  {
   "cell_type": "code",
   "execution_count": 14,
   "id": "6504280c",
   "metadata": {},
   "outputs": [
    {
     "name": "stdout",
     "output_type": "stream",
     "text": [
      "Covariance between host acceptance percentage and Airbnb rating: -0.156\n",
      "Pearson correlation between host acceptance percentage and Airbnb rating: -0.011\n"
     ]
    }
   ],
   "source": [
    "# Covariance and correlation statistics\n",
    "cov_acceptance = (airbnb_data['host_acceptance_percent'].astype(float)).cov(airbnb_data['review_scores_rating'].astype(float))\n",
    "pcorr_acceptance = (airbnb_data['host_acceptance_percent'].astype(float)).corr(airbnb_data['review_scores_rating'].astype(float))\n",
    "print('Covariance between host acceptance percentage and Airbnb rating: {:.3f}'.format(cov_acceptance))\n",
    "print('Pearson correlation between host acceptance percentage and Airbnb rating: {:.3f}'.format(pcorr_acceptance))"
   ]
  },
  {
   "cell_type": "markdown",
   "id": "31c5d535",
   "metadata": {},
   "source": [
    "The Pearson correlation value was calculated to be a nearly negligible -0.011. Likewise, the covariance is extremely close to 0. There does not seem to be an association between host acceptance percentage and overall listing rating."
   ]
  },
  {
   "cell_type": "markdown",
   "id": "f7380986",
   "metadata": {},
   "source": [
    "**_Ratings by whether host is superhost:_**<br>\n",
    "Superhost status is granted to Airbnb hosts who are experienced and highly active on the platform. Each of the listings we examined was rented by either a superhost (true) or non-superhost (false)."
   ]
  },
  {
   "cell_type": "code",
   "execution_count": 15,
   "id": "cc84eeb0",
   "metadata": {},
   "outputs": [
    {
     "name": "stdout",
     "output_type": "stream",
     "text": [
      "Average Airbnb ratings by whether the host is a superhost:\n",
      "                   review_scores_rating\n",
      "host_is_superhost                      \n",
      "f                              4.611510\n",
      "t                              4.839969\n",
      "\n",
      "Median of Airbnb ratings by whether the host is a superhost:\n",
      "                   review_scores_rating\n",
      "host_is_superhost                      \n",
      "f                                  4.75\n",
      "t                                  4.88\n",
      "\n",
      "Standard deviation of Airbnb ratings by whether the host is a superhost:\n",
      "                   review_scores_rating\n",
      "host_is_superhost                      \n",
      "f                              0.577253\n",
      "t                              0.207097\n"
     ]
    }
   ],
   "source": [
    "# Analysis of ratings by whether host is superhost\n",
    "superhost = airbnb_data.groupby(by = 'host_is_superhost')\n",
    "superhost_mean = superhost[['review_scores_rating']].mean()\n",
    "superhost_median = superhost[['review_scores_rating']].median()\n",
    "superhost_std = superhost[['review_scores_rating']].std()\n",
    "print('Average Airbnb ratings by whether the host is a superhost:')\n",
    "print(superhost_mean)\n",
    "print('\\n' + 'Median of Airbnb ratings by whether the host is a superhost:')\n",
    "print(superhost_median)\n",
    "print('\\n' + 'Standard deviation of Airbnb ratings by whether the host is a superhost:')\n",
    "print(superhost_std)"
   ]
  },
  {
   "cell_type": "markdown",
   "id": "84bba134",
   "metadata": {},
   "source": [
    "Comparing the means, medians, and standard deviations between Airbnbs owned by superhosts and non-superhosts, we notice a general trend that superhosts tend to own higher-rated listings. Both the average and median overall ratings for superhosts are at least 0.1 points higher than ratings of non-superhosts, and superhosts also have a much smaller standard deviation, meaning that their listings are consistently receiving high ratings."
   ]
  },
  {
   "cell_type": "markdown",
   "id": "c1f23783",
   "metadata": {},
   "source": [
    "To address the categorical variable \"host_is_superhost\", we mapped the true and false values to the dummy variables 1 and 0, respectively, as demonstrated below. We are then able to create a regression line."
   ]
  },
  {
   "cell_type": "code",
   "execution_count": 16,
   "id": "eee7b96c",
   "metadata": {},
   "outputs": [
    {
     "name": "stdout",
     "output_type": "stream",
     "text": [
      "Value counts (0 = not a superhost, 1 = superhost):\n",
      "0    8980\n",
      "1    4465\n",
      "Name: host_is_superhost_map, dtype: int64\n"
     ]
    }
   ],
   "source": [
    "# NOTE: This cell can only be run once!\n",
    "\n",
    "# Create map for superhost categorical variable\n",
    "superhost_map = {\"t\": 1, \n",
    "                 \"f\": 0}\n",
    "# Apply the map\n",
    "airbnb_data['host_is_superhost_map'] = airbnb_data['host_is_superhost'].map(superhost_map)\n",
    "print('Value counts (0 = not a superhost, 1 = superhost):')\n",
    "print(airbnb_data['host_is_superhost_map'].value_counts())"
   ]
  },
  {
   "cell_type": "code",
   "execution_count": 17,
   "id": "1173f1dc",
   "metadata": {},
   "outputs": [
    {
     "data": {
      "image/png": "[encoded data removed]",
      "text/plain": [
       "<Figure size 432x288 with 1 Axes>"
      ]
     },
     "metadata": {},
     "output_type": "display_data"
    },
    {
     "name": "stdout",
     "output_type": "stream",
     "text": [
      "Regression Slope: [0.228]\n",
      "r^2: 0.047\n"
     ]
    }
   ],
   "source": [
    "# Scatterplot of superhost status\n",
    "sns.regplot(x = airbnb_data['host_is_superhost_map'], y = airbnb_data['review_scores_rating'], scatter_kws={'alpha': 0.05}, line_kws={'color': 'red'})\n",
    "\n",
    "# Regression analysis\n",
    "learner = LinearRegression()\n",
    "learner.fit(airbnb_data[['host_is_superhost_map']], airbnb_data[['review_scores_rating']])\n",
    "predicted_rating = learner.predict(airbnb_data[['host_is_superhost_map']])\n",
    "\n",
    "plt.xlabel('Superhost Status (0 = Not Superhost, 1 = Superhost)')\n",
    "plt.ylabel('Overall Airbnb Rating')\n",
    "plt.title('Superhost Status Versus Airbnb Rating')\n",
    "plt.show()\n",
    "\n",
    "print('Regression Slope:', learner.coef_[0].round(3))\n",
    "print('r^2:', round(learner.score(airbnb_data[['host_is_superhost_map']], airbnb_data[['review_scores_rating']]),3))"
   ]
  },
  {
   "cell_type": "markdown",
   "id": "0f36ef67",
   "metadata": {},
   "source": [
    "Out of the three host attributes (host response percentage, host acceptance percentage, and superhost status), superhost status produced the best linear regression results by a minimal margin. The slightly positive regression slope suggests that superhosts do receive somewhat higher ratings on average than non-superhosts. However, any relationship that exists is extremely weak, as the r^2 value for the two variables is only 0.047."
   ]
  },
  {
   "cell_type": "markdown",
   "id": "bf4074dc",
   "metadata": {},
   "source": [
    "Because the \"host_is_superhost\" column is non-numeric (even when mapped to numeric dummy variables, it is non-continuous because the value is either 0 or 1), we cannot directly calculate covariance and correlation statistics from the data. However, we are able to investigate the presence of a statistically significant relationship between superhost status and overall Airbnb rating later on in our data analysis using ANOVA (see part IV, *Evaluation of Significance*)."
   ]
  },
  {
   "cell_type": "markdown",
   "id": "6a06397a",
   "metadata": {},
   "source": [
    "### *B. Listing Attributes*"
   ]
  },
  {
   "cell_type": "markdown",
   "id": "6e9e0802",
   "metadata": {},
   "source": [
    "**_Ratings by neighborhood:_**<br>\n",
    "Knowing the socioeconomic differences and varied tourist attractions between the 5 boroughs of New York City, we wanted to compare the ratings of Airbnbs based on the borough the listing was in."
   ]
  },
  {
   "cell_type": "code",
   "execution_count": 18,
   "id": "236e66a6",
   "metadata": {},
   "outputs": [
    {
     "name": "stdout",
     "output_type": "stream",
     "text": [
      "Average Airbnb ratings by neighborhood:\n",
      "                              review_scores_rating\n",
      "neighbourhood_group_cleansed                      \n",
      "Bronx                                     4.732707\n",
      "Brooklyn                                  4.711097\n",
      "Manhattan                                 4.664415\n",
      "Queens                                    4.664507\n",
      "Staten Island                             4.758010\n",
      "\n",
      "Median of Airbnb ratings by neighborhood:\n",
      "                              review_scores_rating\n",
      "neighbourhood_group_cleansed                      \n",
      "Bronx                                         4.81\n",
      "Brooklyn                                      4.84\n",
      "Manhattan                                     4.81\n",
      "Queens                                        4.80\n",
      "Staten Island                                 4.84\n",
      "\n",
      "Standard deviation of Airbnb ratings by neighborhood:\n",
      "                              review_scores_rating\n",
      "neighbourhood_group_cleansed                      \n",
      "Bronx                                     0.349460\n",
      "Brooklyn                                  0.488524\n",
      "Manhattan                                 0.522216\n",
      "Queens                                    0.508771\n",
      "Staten Island                             0.297046\n"
     ]
    }
   ],
   "source": [
    "# Analysis of ratings by neighborhood\n",
    "neighborhood = airbnb_data.groupby(by = 'neighbourhood_group_cleansed')\n",
    "neighborhood_mean = neighborhood[['review_scores_rating']].mean()\n",
    "neighborhood_median = neighborhood[['review_scores_rating']].median()\n",
    "neighborhood_std = neighborhood[['review_scores_rating']].std()\n",
    "print('Average Airbnb ratings by neighborhood:')\n",
    "print(neighborhood_mean)\n",
    "print('\\n' + 'Median of Airbnb ratings by neighborhood:')\n",
    "print(neighborhood_median)\n",
    "print('\\n' + 'Standard deviation of Airbnb ratings by neighborhood:')\n",
    "print(neighborhood_std)"
   ]
  },
  {
   "cell_type": "markdown",
   "id": "d8d1b201",
   "metadata": {},
   "source": [
    "There are only slight variations in the average rating of Airbnbs when categorized by neighborhood. The lowest mean rating was for the Manhattan group, which averaged a rating of 4.664415, and the highest mean rating was for the Staten Island group, which averaged a rating of 4.758010. Thus the greatest difference between neighborhoods is less than 0.1 of a point. Similarly, the median ratings by neighborhood were extremely close."
   ]
  },
  {
   "cell_type": "markdown",
   "id": "21bcb901",
   "metadata": {},
   "source": [
    "Because the neighborhood variable is non-numeric, non-continuous, and has no natural order that would allow us to map dummy variables, we did not perform linear regression analysis on neighborhood. Instead, to visualize any relationship or trend between this variable and overall review rating, we created a boxplot that allows us to better compare the medians and distribution of the data. In order to reduce excessive outliers that made the boxplots difficult to visualize while still taking these outliers into account, we rank-transformed the \"review_scores_rating\" column, generating a much clearer graph as shown below."
   ]
  },
  {
   "cell_type": "code",
   "execution_count": 19,
   "id": "42253211",
   "metadata": {},
   "outputs": [
    {
     "data": {
      "image/png": "[encoded data removed]",
      "text/plain": [
       "<Figure size 432x288 with 1 Axes>"
      ]
     },
     "metadata": {},
     "output_type": "display_data"
    }
   ],
   "source": [
    "# Rank transformation of overall rating\n",
    "airbnb_data['rank_review_scores_rating'] = airbnb_data['review_scores_rating'].rank()\n",
    "\n",
    "# Boxplots of transformed ratings by neighborhood\n",
    "airbnb_data.boxplot('rank_review_scores_rating', by = 'neighbourhood_group_cleansed')\n",
    "plt.suptitle('')\n",
    "plt.title('Rank-Transformed Airbnb Rating by Borough')\n",
    "plt.xlabel('Borough')\n",
    "plt.ylabel('Rank of Overall Airbnb Rating')\n",
    "plt.show()"
   ]
  },
  {
   "cell_type": "markdown",
   "id": "63dcf446",
   "metadata": {},
   "source": [
    "From the boxplot, we are able to see that the median rating rankings of the boroughs in increasing order is: Queens and Manhattan, Bronx, Brooklyn, and Staten Island. However, the medians are all extremely close (Queens and Manhattan were essentially indistinguishable just by looking at the plot) and there was no significant difference between the boxes representing the interquartile range, therefore there does not seem to be a meaningful correlation between location of Airbnbs by borough and their overall rating."
   ]
  },
  {
   "cell_type": "markdown",
   "id": "bb0a0616",
   "metadata": {},
   "source": [
    "Again, for the non-numeric category of neighborhood, correlation and covariance statistics were not calculated; instead, the relationship was explored using the technique of ANOVA (see part IV, *Evaluation of Significance*)."
   ]
  },
  {
   "cell_type": "markdown",
   "id": "c1578599",
   "metadata": {},
   "source": [
    "**_Ratings by accommodates:_**"
   ]
  },
  {
   "cell_type": "code",
   "execution_count": 20,
   "id": "cc7de212",
   "metadata": {},
   "outputs": [
    {
     "name": "stdout",
     "output_type": "stream",
     "text": [
      "Average guests accommodated: 3.092\n",
      "Median guests accommodated: 2.000\n",
      "Standard deviation of guests accommodated: 2.053\n"
     ]
    }
   ],
   "source": [
    "# Analysis of ratings by number of guests accommodated\n",
    "guests_mean = airbnb_data['accommodates'].mean()\n",
    "guests_median = airbnb_data['accommodates'].median()\n",
    "guests_std = airbnb_data['accommodates'].std()\n",
    "print('Average guests accommodated: {:.3f}'.format(guests_mean))\n",
    "print('Median guests accommodated: {:.3f}'.format(guests_median))\n",
    "print('Standard deviation of guests accommodated: {:.3f}'.format(guests_std))"
   ]
  },
  {
   "cell_type": "markdown",
   "id": "fc82b737",
   "metadata": {},
   "source": [
    "From the summary statistics displayed above, we can see that on average New York City Airbnbs can host roughly 3 guests, and the median accommodation is 2 guests. Airbnbs in NYC therefore seem to mostly serve smaller groups of travelers."
   ]
  },
  {
   "cell_type": "code",
   "execution_count": 21,
   "id": "b832526d",
   "metadata": {},
   "outputs": [
    {
     "data": {
      "image/png": "[encoded data removed]",
      "text/plain": [
       "<Figure size 432x288 with 1 Axes>"
      ]
     },
     "metadata": {},
     "output_type": "display_data"
    },
    {
     "name": "stdout",
     "output_type": "stream",
     "text": [
      "Regression Slope: [0.001]\n",
      "r^2: 0.0\n"
     ]
    }
   ],
   "source": [
    "# Scatterplot of ratings by number of guests accommodated\n",
    "sns.regplot(x = airbnb_data['accommodates'], y = airbnb_data['review_scores_rating'], scatter_kws={'alpha': 0.05}, line_kws={'color': 'red'})\n",
    "\n",
    "# Regression analysis\n",
    "learner = LinearRegression()\n",
    "learner.fit(airbnb_data[['accommodates']], airbnb_data[['review_scores_rating']])\n",
    "predicted_rating = learner.predict(airbnb_data[['accommodates']])\n",
    "\n",
    "plt.xlabel('Number of Guests Accommodated')\n",
    "plt.ylabel('Overall Airbnb Rating')\n",
    "plt.title('Number of Guests Accommodated Versus Airbnb Rating')\n",
    "plt.show()\n",
    "\n",
    "print('Regression Slope:', learner.coef_[0].round(3))\n",
    "print('r^2:', round(learner.score(airbnb_data[['accommodates']], airbnb_data[['review_scores_rating']]),3))"
   ]
  },
  {
   "cell_type": "markdown",
   "id": "05c6d83a",
   "metadata": {},
   "source": [
    "The linear regression model for the number of guests accommodated as a predictor of overall Airbnb rating generates a regression slope value that is almost equal to 0. The r^2 value is 0.0. These extremely negligible values indicate that the fit of a linear model is very poor and non-predictive. Additionally, we can tell from the density of the scatterplot (and from our summary statistics) that the majority of the Airbnb listings correspond to a low number of accommodations, which means that our data is asymmetrically distributed and favors the lower end."
   ]
  },
  {
   "cell_type": "code",
   "execution_count": 22,
   "id": "c9ee7456",
   "metadata": {},
   "outputs": [
    {
     "name": "stdout",
     "output_type": "stream",
     "text": [
      "Covariance between guests accommodated and Airbnb rating: 0.005\n",
      "Pearson correlation between guests accommodated and Airbnb rating: 0.005\n"
     ]
    }
   ],
   "source": [
    "# Covariance and correlation statistics\n",
    "cov_guests = (airbnb_data['accommodates'].astype(float)).cov(airbnb_data['review_scores_rating'].astype(float))\n",
    "pcorr_guests = (airbnb_data['accommodates'].astype(float)).corr(airbnb_data['review_scores_rating'].astype(float))\n",
    "print('Covariance between guests accommodated and Airbnb rating: {:.3f}'.format(cov_guests))\n",
    "print('Pearson correlation between guests accommodated and Airbnb rating: {:.3f}'.format(pcorr_guests))"
   ]
  },
  {
   "cell_type": "markdown",
   "id": "265dec9c",
   "metadata": {},
   "source": [
    "The covariance and Pearson correlation statistics indicate that there is not a strong relationship between the number of guests accommodated by an Airbnb and its rating, as both the calculated values are extremely close to 0. "
   ]
  },
  {
   "cell_type": "markdown",
   "id": "e68471a6",
   "metadata": {},
   "source": [
    "**_Ratings by number of bedrooms:_**"
   ]
  },
  {
   "cell_type": "code",
   "execution_count": 23,
   "id": "8a5e4db8",
   "metadata": {},
   "outputs": [
    {
     "name": "stdout",
     "output_type": "stream",
     "text": [
      "Average bedrooms: 1.391\n",
      "Median bedrooms: 1.000\n",
      "Standard deviation of bedrooms: 0.766\n"
     ]
    }
   ],
   "source": [
    "# Analysis of ratings by number of bedrooms\n",
    "bed_mean = airbnb_data['bedrooms'].mean()\n",
    "bed_median = airbnb_data['bedrooms'].median()\n",
    "bed_std = airbnb_data['bedrooms'].std()\n",
    "print('Average bedrooms: {:.3f}'.format(bed_mean))\n",
    "print('Median bedrooms: {:.3f}'.format(bed_median))\n",
    "print('Standard deviation of bedrooms: {:.3f}'.format(bed_std))"
   ]
  },
  {
   "cell_type": "markdown",
   "id": "fbd1e826",
   "metadata": {},
   "source": [
    "The summary statistics of the number of bedrooms in each Airbnb reveal that the typical number of bedrooms in a New York City Airbnb is one, which makes sense as the median number of guests accommodated was two, and one bed is assumed to sleep two people. This also makes sense in the context of NYC housing, in which larger spaces that accommodate more people are rare due to space constraints."
   ]
  },
  {
   "cell_type": "code",
   "execution_count": 24,
   "id": "934ae16b",
   "metadata": {},
   "outputs": [
    {
     "data": {
      "image/png": "[encoded data removed]",
      "text/plain": [
       "<Figure size 432x288 with 1 Axes>"
      ]
     },
     "metadata": {},
     "output_type": "display_data"
    },
    {
     "name": "stdout",
     "output_type": "stream",
     "text": [
      "Regression Slope: [0.009]\n",
      "r^2: 0.0\n"
     ]
    }
   ],
   "source": [
    "# Scatterplot of ratings by number of bedrooms\n",
    "sns.regplot(x = airbnb_data['bedrooms'], y = airbnb_data['review_scores_rating'], scatter_kws={'alpha': 0.05}, line_kws={'color': 'red'})\n",
    "\n",
    "# Regression analysis\n",
    "learner = LinearRegression()\n",
    "learner.fit(airbnb_data[['bedrooms']], airbnb_data[['review_scores_rating']])\n",
    "predicted_rating = learner.predict(airbnb_data[['bedrooms']])\n",
    "\n",
    "plt.xlabel('Number of Bedrooms')\n",
    "plt.ylabel('Overall Airbnb Rating')\n",
    "plt.title('Number of Bedrooms Versus Airbnb Rating')\n",
    "plt.show()\n",
    "\n",
    "print('Regression Slope:', learner.coef_[0].round(3))\n",
    "print('r^2:', round(learner.score(airbnb_data[['bedrooms']], airbnb_data[['review_scores_rating']]),3))"
   ]
  },
  {
   "cell_type": "markdown",
   "id": "8e3ad6d0",
   "metadata": {},
   "source": [
    "The r^2 and regression slope generated by linear regression, which are both essentially 0, point to the fact that a linear model is not appropriate or predictive for the influence of number of bedrooms on an Airbnb's rating. Similarly to the variable \"accommodates\", the distribution of bedroom number data points clearly favors a low number of bedrooms; the graph only extends to 14 bedrooms due to outliers."
   ]
  },
  {
   "cell_type": "code",
   "execution_count": 25,
   "id": "7655448f",
   "metadata": {},
   "outputs": [
    {
     "name": "stdout",
     "output_type": "stream",
     "text": [
      "Covariance between number of bedrooms and Airbnb rating: 0.005\n",
      "Pearson correlation between number of bedrooms and Airbnb rating: 0.014\n"
     ]
    }
   ],
   "source": [
    "# Covariance and correlation statistics\n",
    "cov_bed = (airbnb_data['bedrooms'].astype(float)).cov(airbnb_data['review_scores_rating'].astype(float))\n",
    "pcorr_bed = (airbnb_data['bedrooms'].astype(float)).corr(airbnb_data['review_scores_rating'].astype(float))\n",
    "print('Covariance between number of bedrooms and Airbnb rating: {:.3f}'.format(cov_bed))\n",
    "print('Pearson correlation between number of bedrooms and Airbnb rating: {:.3f}'.format(pcorr_bed))"
   ]
  },
  {
   "cell_type": "markdown",
   "id": "9c21a046",
   "metadata": {},
   "source": [
    "The covariance and Pearson correlation statistics calculated reflect the lack of a significant relationship visualized in the scatterplot and linear regression. All values are very low and close to 0, suggesting that the number of bedrooms in an Airbnb does not have much bearing on the rating it will receive."
   ]
  },
  {
   "cell_type": "markdown",
   "id": "8b829fdf",
   "metadata": {},
   "source": [
    "**_Ratings by number of bathrooms:_**"
   ]
  },
  {
   "cell_type": "code",
   "execution_count": 26,
   "id": "46cac018",
   "metadata": {},
   "outputs": [
    {
     "name": "stdout",
     "output_type": "stream",
     "text": [
      "Average bathrooms: 1.184\n",
      "Median bathrooms: 1.000\n",
      "Standard deviation of bathrooms: 0.488\n"
     ]
    }
   ],
   "source": [
    "# Analysis of ratings by number of bathrooms\n",
    "bath_mean = airbnb_data['bathrooms'].mean()\n",
    "bath_median = airbnb_data['bathrooms'].median()\n",
    "bath_std = airbnb_data['bathrooms'].std()\n",
    "print('Average bathrooms: {:.3f}'.format(bath_mean))\n",
    "print('Median bathrooms: {:.3f}'.format(bath_median))\n",
    "print('Standard deviation of bathrooms: {:.3f}'.format(bath_std))"
   ]
  },
  {
   "cell_type": "markdown",
   "id": "aa18d3a6",
   "metadata": {},
   "source": [
    "The summary statistics of the number of bathrooms in each Airbnb convey that in general, a New York City Airbnb provides one bathroom. This makes sense considering the lack of space in NYC."
   ]
  },
  {
   "cell_type": "code",
   "execution_count": 27,
   "id": "06151145",
   "metadata": {},
   "outputs": [
    {
     "data": {
      "image/png": "[encoded data removed]",
      "text/plain": [
       "<Figure size 432x288 with 1 Axes>"
      ]
     },
     "metadata": {},
     "output_type": "display_data"
    },
    {
     "name": "stdout",
     "output_type": "stream",
     "text": [
      "Regression Slope: [-0.026]\n",
      "r^2: 0.001\n"
     ]
    }
   ],
   "source": [
    "# Scatterplot of ratings by number of bathrooms\n",
    "sns.regplot(x = airbnb_data['bathrooms'], y = airbnb_data['review_scores_rating'], scatter_kws={'alpha': 0.05}, line_kws={'color': 'red'})\n",
    "\n",
    "# Regression analysis\n",
    "learner = LinearRegression()\n",
    "learner.fit(airbnb_data[['bathrooms']], airbnb_data[['review_scores_rating']])\n",
    "predicted_rating = learner.predict(airbnb_data[['bathrooms']])\n",
    "\n",
    "plt.xlabel('Number of Bathrooms')\n",
    "plt.ylabel('Overall Airbnb Rating')\n",
    "plt.title('Number of Bathrooms Versus Airbnb Rating')\n",
    "plt.show()\n",
    "\n",
    "print('Regression Slope:', learner.coef_[0].round(3))\n",
    "print('r^2:', round(learner.score(airbnb_data[['bathrooms']], airbnb_data[['review_scores_rating']]),3))"
   ]
  },
  {
   "cell_type": "markdown",
   "id": "250807a5",
   "metadata": {},
   "source": [
    "Compared to many of the other regression slopes and r^2 values generated, the slope and r^2 value for the number of bathrooms is slightly higher, with values of -0.026 and 0.001 respectively. However, these measurements are still extremely poor in terms of regression in general, and again we conclude that the linear model is not appropriate. From the scatterplot we note the concentration of data points at low values of number of bathrooms, similar to what we observed in the scatterplot of number of bedrooms."
   ]
  },
  {
   "cell_type": "code",
   "execution_count": 28,
   "id": "e9c49966",
   "metadata": {},
   "outputs": [
    {
     "name": "stdout",
     "output_type": "stream",
     "text": [
      "Covariance between number of bathrooms and Airbnb rating: -0.006\n",
      "Pearson correlation between number of bathrooms and Airbnb rating: -0.026\n"
     ]
    }
   ],
   "source": [
    "# Covariance and correlation statistics\n",
    "cov_bath = (airbnb_data['bathrooms'].astype(float)).cov(airbnb_data['review_scores_rating'].astype(float))\n",
    "pcorr_bath = (airbnb_data['bathrooms'].astype(float)).corr(airbnb_data['review_scores_rating'].astype(float))\n",
    "print('Covariance between number of bathrooms and Airbnb rating: {:.3f}'.format(cov_bath))\n",
    "print('Pearson correlation between number of bathrooms and Airbnb rating: {:.3f}'.format(pcorr_bath))"
   ]
  },
  {
   "cell_type": "markdown",
   "id": "299d948e",
   "metadata": {},
   "source": [
    "The covariance and correlation statistics calculated for the number of bathrooms and the Airbnb's overall rating do not indicate any relationship between the two variables. In fact, both the covariance and the Pearson correlation values are negative and essentially 0, so there is most likely no meaningful relationship."
   ]
  },
  {
   "cell_type": "markdown",
   "id": "ad43b708",
   "metadata": {},
   "source": [
    "**_Ratings by amenities:_**<br>\n",
    "Each Airbnb listing offers a list of amenities. Based on a recent [consumer survey conducted by Airbnb](https://www.airbnb.com/resources/hosting-homes/a/the-amenities-guests-want-25) about the amenities that guests most value, we selected five of the top ten desired amenities to analyze within our data: the availability of wifi, the availability of parking, a pool, a kitchen, and air conditioning. New dataframe columns were created indicating whether each listing had each of the amenities, mapping 1 to yes and 0 to no. We are then able to calculate the mean ratings of Airbnbs with and without each amenity."
   ]
  },
  {
   "cell_type": "code",
   "execution_count": 29,
   "id": "71402235",
   "metadata": {},
   "outputs": [],
   "source": [
    "# Remove automatically generated (but harmless) warning\n",
    "pd.set_option('mode.chained_assignment', None)\n",
    "\n",
    "# Selection for top amenities\n",
    "top_amenities =  ['Wifi', 'parking','Pool','Kitchen','Air conditioning']\n",
    "amenity_cols = ['has_wifi','has_parking','has_pool','kitchen_access', 'has_ac']\n",
    "\n",
    "for col in amenity_cols:\n",
    "    airbnb_data[col] = np.zeros(len(airbnb_data), dtype=int)\n",
    "\n",
    "for x in range(len(top_amenities)):\n",
    "    for row in airbnb_data.index:\n",
    "        if top_amenities[x] in airbnb_data['amenities'][row]:\n",
    "            airbnb_data[amenity_cols[x]][row] = 1"
   ]
  },
  {
   "cell_type": "code",
   "execution_count": 30,
   "id": "01ff22ce",
   "metadata": {},
   "outputs": [
    {
     "name": "stdout",
     "output_type": "stream",
     "text": [
      "Mean ratings of airbnb listings with has_wifi amenity: 4.69\n",
      "Mean ratings of airbnb listings without has_wifi amenity: 4.429\n",
      "Median ratings of airbnb listings with has_wifi amenity: 4.82\n",
      "Median ratings of airbnb listings without has_wifi amenity: 4.65\n",
      "Standard deviation of ratings of airbnb listings with has_wifi amenity: 0.494\n",
      "Standard deviation of airbnb listings without has_wifi amenity: 0.793\n",
      "\n",
      "Mean ratings of airbnb listings with has_parking amenity: 4.729\n",
      "Mean ratings of airbnb listings without has_parking amenity: 4.603\n",
      "Median ratings of airbnb listings with has_parking amenity: 4.82\n",
      "Median ratings of airbnb listings without has_parking amenity: 4.82\n",
      "Standard deviation of ratings of airbnb listings with has_parking amenity: 0.387\n",
      "Standard deviation of airbnb listings without has_parking amenity: 0.66\n",
      "\n",
      "Mean ratings of airbnb listings with has_pool amenity: 4.687\n",
      "Mean ratings of airbnb listings without has_pool amenity: 4.687\n",
      "Median ratings of airbnb listings with has_pool amenity: 4.92\n",
      "Median ratings of airbnb listings without has_pool amenity: 4.82\n",
      "Standard deviation of ratings of airbnb listings with has_pool amenity: 0.617\n",
      "Standard deviation of airbnb listings without has_pool amenity: 0.497\n",
      "\n",
      "Mean ratings of airbnb listings with kitchen_access amenity: 4.695\n",
      "Mean ratings of airbnb listings without kitchen_access amenity: 4.63\n",
      "Median ratings of airbnb listings with kitchen_access amenity: 4.83\n",
      "Median ratings of airbnb listings without kitchen_access amenity: 4.77\n",
      "Standard deviation of ratings of airbnb listings with kitchen_access amenity: 0.498\n",
      "Standard deviation of airbnb listings without kitchen_access amenity: 0.5\n",
      "\n",
      "Mean ratings of airbnb listings with has_ac amenity: 4.694\n",
      "Mean ratings of airbnb listings without has_ac amenity: 4.645\n",
      "Median ratings of airbnb listings with has_ac amenity: 4.82\n",
      "Median ratings of airbnb listings without has_ac amenity: 4.82\n",
      "Standard deviation of ratings of airbnb listings with has_ac amenity: 0.487\n",
      "Standard deviation of airbnb listings without has_ac amenity: 0.567\n",
      "\n"
     ]
    }
   ],
   "source": [
    "# Summary statistics\n",
    "for col in amenity_cols:\n",
    "    df_yes = airbnb_data[airbnb_data[col] == 1]\n",
    "    mean_yes = (df_yes['review_scores_rating']).mean()\n",
    "    median_yes = (df_yes['review_scores_rating']).median()\n",
    "    std_yes = (df_yes['review_scores_rating']).std()\n",
    "    \n",
    "    df_no = airbnb_data[airbnb_data[col] == 0]\n",
    "    mean_no = (df_no['review_scores_rating']).mean()\n",
    "    median_no = (df_no['review_scores_rating']).median()\n",
    "    std_no = (df_no['review_scores_rating']).std()\n",
    "    \n",
    "    print('Mean ratings of airbnb listings with '+col+' amenity: ' + str(round(mean_yes,3)))\n",
    "    print('Mean ratings of airbnb listings without '+col+' amenity: ' + str(round(mean_no,3)))\n",
    "    print('Median ratings of airbnb listings with '+col+' amenity: ' + str(round(median_yes,3)))\n",
    "    print('Median ratings of airbnb listings without '+col+' amenity: ' + str(round(median_no,3)))\n",
    "    print('Standard deviation of ratings of airbnb listings with '+col+' amenity: ' + str(round(std_yes,3)))\n",
    "    print('Standard deviation of airbnb listings without '+col+' amenity: ' + str(round(std_no,3)) + '\\n')"
   ]
  },
  {
   "cell_type": "markdown",
   "id": "4f40c86d",
   "metadata": {},
   "source": [
    "From the summary statistics calculated above, having an amenity is almost always beneficial for an Airbnb's overall rating. The mean ratings of listings with the amenity versus without was higher for all of the amenities analyzed except for pools, which had the same average overall rating. However, the margin by which the Airbnbs with the amenity had a higher rating than the Airbnbs without the amenity was not very large."
   ]
  },
  {
   "cell_type": "code",
   "execution_count": 31,
   "id": "369bb262",
   "metadata": {},
   "outputs": [
    {
     "data": {
      "image/png": "[encoded data removed]",
      "text/plain": [
       "<Figure size 432x288 with 1 Axes>"
      ]
     },
     "metadata": {},
     "output_type": "display_data"
    },
    {
     "name": "stdout",
     "output_type": "stream",
     "text": [
      "Predictor: has_wifi\n",
      "Regression Slope: [0.261]\n",
      "r^2: 0.003\n"
     ]
    },
    {
     "data": {
      "image/png": "[encoded data removed]",
      "text/plain": [
       "<Figure size 432x288 with 1 Axes>"
      ]
     },
     "metadata": {},
     "output_type": "display_data"
    },
    {
     "name": "stdout",
     "output_type": "stream",
     "text": [
      "Predictor: has_parking\n",
      "Regression Slope: [0.126]\n",
      "r^2: 0.014\n"
     ]
    },
    {
     "data": {
      "image/png": "[encoded data removed]",
      "text/plain": [
       "<Figure size 432x288 with 1 Axes>"
      ]
     },
     "metadata": {},
     "output_type": "display_data"
    },
    {
     "name": "stdout",
     "output_type": "stream",
     "text": [
      "Predictor: has_pool\n",
      "Regression Slope: [0.]\n",
      "r^2: 0.0\n"
     ]
    },
    {
     "data": {
      "image/png": "[encoded data removed]",
      "text/plain": [
       "<Figure size 432x288 with 1 Axes>"
      ]
     },
     "metadata": {},
     "output_type": "display_data"
    },
    {
     "name": "stdout",
     "output_type": "stream",
     "text": [
      "Predictor: kitchen_access\n",
      "Regression Slope: [0.064]\n",
      "r^2: 0.002\n"
     ]
    },
    {
     "data": {
      "image/png": "[encoded data removed]",
      "text/plain": [
       "<Figure size 432x288 with 1 Axes>"
      ]
     },
     "metadata": {},
     "output_type": "display_data"
    },
    {
     "name": "stdout",
     "output_type": "stream",
     "text": [
      "Predictor: has_ac\n",
      "Regression Slope: [0.048]\n",
      "r^2: 0.001\n"
     ]
    }
   ],
   "source": [
    "# Scatterplots for amenities\n",
    "for c in amenity_cols:\n",
    "    sns.regplot(x = airbnb_data[c], y = airbnb_data['review_scores_rating'], scatter_kws={'alpha': 0.05}, line_kws={'color': 'red'})\n",
    "    plt.show()\n",
    "    # Regression analysis\n",
    "    learner = LinearRegression()\n",
    "    learner.fit(airbnb_data[[c]], airbnb_data[['review_scores_rating']])\n",
    "    predicted_rating = learner.predict(airbnb_data[[c]]) \n",
    "    print('Predictor:', c)\n",
    "    print('Regression Slope:', learner.coef_[0].round(3))\n",
    "    print('r^2:', round(learner.score(airbnb_data[[c]], airbnb_data[['review_scores_rating']]),3))"
   ]
  },
  {
   "cell_type": "markdown",
   "id": "32715fd5",
   "metadata": {},
   "source": [
    "The linear regression models for the amenities pool, kitchen, and air conditioning all generated regression slope values less than 0.1. The r^2 values for each of these variables was also extremely close to 0, meaning that the fit of a linear model to these particular variables is very poor and non-predictive.\n",
    "\n",
    "However, the linear regression applied to the wifi and parking amenities generated more significant slopes of 0.261 and 0.126, respectively. These slopes suggest that having wifi increases overall Airbnb rating on average by 0.261 of a point, and having parking increases rating by 0.126 of a point. The r^2 values calculated for wifi and parking amenities was still a small value close to 0 (0.003 and 0.014 respectively), which undermines the linear fit and the predictive power of the model."
   ]
  },
  {
   "cell_type": "code",
   "execution_count": 32,
   "id": "5ff1e3e2",
   "metadata": {},
   "outputs": [
    {
     "name": "stdout",
     "output_type": "stream",
     "text": [
      "Covariance of airbnb listings with has_wifi amenity: 0.574\n",
      "Covariance of airbnb listings without has_wifi amenity: -4.877\n",
      "Correlation of airbnb listings with has_wifi amenity: 0.006\n",
      "Correlation ratings of airbnb listings without has_wifi amenity: -0.051\n",
      "\n",
      "Covariance of airbnb listings with has_parking amenity: 3.347\n",
      "Covariance of airbnb listings without has_parking amenity: -3.362\n",
      "Correlation of airbnb listings with has_parking amenity: 0.047\n",
      "Correlation ratings of airbnb listings without has_parking amenity: -0.026\n",
      "\n",
      "Covariance of airbnb listings with has_pool amenity: 24.984\n",
      "Covariance of airbnb listings without has_pool amenity: 0.308\n",
      "Correlation of airbnb listings with has_pool amenity: 0.082\n",
      "Correlation ratings of airbnb listings without has_pool amenity: 0.003\n",
      "\n",
      "Covariance of airbnb listings with kitchen_access amenity: 0.774\n",
      "Covariance of airbnb listings without kitchen_access amenity: -1.952\n",
      "Correlation of airbnb listings with kitchen_access amenity: 0.008\n",
      "Correlation ratings of airbnb listings without kitchen_access amenity: -0.022\n",
      "\n",
      "Covariance of airbnb listings with has_ac amenity: 0.349\n",
      "Covariance of airbnb listings without has_ac amenity: 0.143\n",
      "Correlation of airbnb listings with has_ac amenity: 0.004\n",
      "Correlation ratings of airbnb listings without has_ac amenity: 0.002\n",
      "\n"
     ]
    }
   ],
   "source": [
    "# Covariance and correlation analysis\n",
    "for col in amenity_cols:\n",
    "    df_yes = airbnb_data[airbnb_data[col] == 1]\n",
    "    cov_yes = (df_yes['price'].astype(float)).cov(df_yes['review_scores_rating'].astype(float))\n",
    "    corr_yes = (df_yes['price'].astype(float)).corr(df_yes['review_scores_rating'].astype(float))\n",
    "    \n",
    "    df_no = airbnb_data[airbnb_data[col] == 0]\n",
    "    cov_no = (df_no['price'].astype(float)).cov(df_no['review_scores_rating'].astype(float))\n",
    "    corr_no = (df_no['price'].astype(float)).corr(df_no['review_scores_rating'].astype(float))\n",
    "\n",
    "    print('Covariance of airbnb listings with '+col+' amenity: ' + str(round(cov_yes,3)))\n",
    "    print('Covariance of airbnb listings without '+col+' amenity: ' + str(round(cov_no,3)))\n",
    "    print('Correlation of airbnb listings with '+col+' amenity: ' + str(round(corr_yes,3)))\n",
    "    print('Correlation ratings of airbnb listings without '+col+' amenity: ' + str(round(corr_no,3)) +'\\n')"
   ]
  },
  {
   "cell_type": "markdown",
   "id": "f438f780",
   "metadata": {},
   "source": [
    "Calculating the covariance and correlation of the five amenities with the overall review rating yielded very small positive correlation values, essentially equal to 0. Because of how low these correlation values are, there is likely not a strong enough association between presence of each of the amenities on their own and an Airbnb's overall rating. This makes sense, because guests usually would not assign a rating based solely on the presence or absence of one amenity. We later address this fact through multivariable regression analysis (see part II, *Multivariable modeling of Airbnb rating*)."
   ]
  },
  {
   "cell_type": "markdown",
   "id": "9d095a94",
   "metadata": {},
   "source": [
    "### *C. Price*\n",
    "Finally, we analyzed whether the nightly pricing of an Airbnb has any impact on its overall review rating. We chose to isolate this variable because we recognized that price is one of the most important factors that many people consider when choosing an Airbnb, and also because it did not seem to fit under either host attributes or listing attributes. Pricing is both a result of the host's choice, and it is closely associated with the listing itself."
   ]
  },
  {
   "cell_type": "code",
   "execution_count": 33,
   "id": "63c9dc80",
   "metadata": {},
   "outputs": [
    {
     "name": "stdout",
     "output_type": "stream",
     "text": [
      "Average price: $165.03\n",
      "Median price: $119.00\n",
      "Standard deviation of price: $188.47\n"
     ]
    }
   ],
   "source": [
    "# Analysis of ratings by price\n",
    "price_mean = airbnb_data['price'].mean()\n",
    "price_median = airbnb_data['price'].median()\n",
    "price_std = airbnb_data['price'].std()\n",
    "print('Average price: ${:.2f}'.format(price_mean))\n",
    "print('Median price: ${:.2f}'.format(price_median))\n",
    "print('Standard deviation of price: ${:.2f}'.format(price_std))"
   ]
  },
  {
   "cell_type": "markdown",
   "id": "6a11ac3a",
   "metadata": {},
   "source": [
    "From the summary statistics, it appears that the majority of New York City Airbnbs have a nightly price greater than \\\\$100.00, but less than \\\\$200.00."
   ]
  },
  {
   "cell_type": "code",
   "execution_count": 34,
   "id": "42434f32",
   "metadata": {},
   "outputs": [
    {
     "data": {
      "image/png": "[encoded data removed]",
      "text/plain": [
       "<Figure size 432x288 with 1 Axes>"
      ]
     },
     "metadata": {},
     "output_type": "display_data"
    },
    {
     "name": "stdout",
     "output_type": "stream",
     "text": [
      "Regression Slope: [0.]\n",
      "r^2: 0.0\n"
     ]
    }
   ],
   "source": [
    "# Scatterplot of ratings by price\n",
    "sns.regplot(x=airbnb_data['price'], y=airbnb_data['review_scores_rating'], scatter_kws={'alpha': 0.05}, line_kws={'color': 'red'})\n",
    "\n",
    "# Regression analysis\n",
    "learner = LinearRegression()\n",
    "learner.fit(airbnb_data[['price']], airbnb_data[['review_scores_rating']])\n",
    "predicted_rating = learner.predict(airbnb_data[['price']]) \n",
    "\n",
    "plt.xlabel('Price per Night')\n",
    "plt.ylabel('Overall Airbnb Rating')\n",
    "plt.title('Price Versus Airbnb Rating')\n",
    "plt.show()\n",
    "\n",
    "print('Regression Slope:', learner.coef_[0].round(3))\n",
    "print('r^2:', round(learner.score(airbnb_data[['price']], airbnb_data[['review_scores_rating']]),3))"
   ]
  },
  {
   "cell_type": "markdown",
   "id": "504b1875",
   "metadata": {},
   "source": [
    "Both the regression slope and the r^2 value calculated for a linear regression on price were 0. This tells us that price as a predictor of Airbnb rating cannot be fit to a linear regression line; there is no linear relationship whatsoever between these two variables. Also, we can observe from the scatterplot that the distribution of data points is not very even; the vast majority of Airbnbs have nightly rates less than $1000."
   ]
  },
  {
   "cell_type": "code",
   "execution_count": 35,
   "id": "7a9a71e9",
   "metadata": {},
   "outputs": [
    {
     "name": "stdout",
     "output_type": "stream",
     "text": [
      "Covariance between price per night and Airbnb rating: 0.626\n",
      "Pearson correlation between price per night and Airbnb rating: 0.007\n"
     ]
    }
   ],
   "source": [
    "# Covariance and correlation statistics\n",
    "cov_price = (airbnb_data['price'].astype(float)).cov(airbnb_data['review_scores_rating'].astype(float))\n",
    "pcorr_price = (airbnb_data['price'].astype(float)).corr(airbnb_data['review_scores_rating'].astype(float))\n",
    "print('Covariance between price per night and Airbnb rating: {:.3f}'.format(cov_price))\n",
    "print('Pearson correlation between price per night and Airbnb rating: {:.3f}'.format(pcorr_price))"
   ]
  },
  {
   "cell_type": "markdown",
   "id": "d0ecc36f",
   "metadata": {},
   "source": [
    "While the covariance is relatively high compared to the other covariances found in our data analysis (in fact, this covariance is the highest out of all of the individual variables), the Pearson correlation is still very close to 0. Due to the relatively higher covariance, we noted that there may be a slight association between price and overall Airbnb rating that warrants further exploration and confirmation in our further analyses."
   ]
  },
  {
   "cell_type": "markdown",
   "id": "258b6528",
   "metadata": {},
   "source": [
    "### II. Multivariable modeling of Airbnb rating"
   ]
  },
  {
   "cell_type": "markdown",
   "id": "38b3135d",
   "metadata": {},
   "source": [
    "### *A. Linear regression*\n",
    "Given the low correlation between each individual attribute and overall Airbnb rating, we decided to execute a multivariable linear regression to combine the impacts of the multiple varaibles and jointly predict Airbnb rating. We separated the multivariable linear regression by the three general categories we outlined in our individual analysis - host attributes, listing attributes, and pricing. However, since the pricing category was (as the name suggests) only dependent on the single variable of the nightly price of the Airbnb, there was no need to perform multivariable linear regression. The results of the multivariable regression for host and listing attributes are shown and discussed below."
   ]
  },
  {
   "cell_type": "code",
   "execution_count": 36,
   "id": "f8c335e9",
   "metadata": {},
   "outputs": [
    {
     "name": "stdout",
     "output_type": "stream",
     "text": [
      "Coefficient of predictor host response rate: 0.002\n",
      "Coefficient of predictor host acceptance rate: -0.002\n",
      "Coefficient of predictor superhost status: 0.221\n",
      "r^2 of multivariable linear regression model: 0.057\n"
     ]
    }
   ],
   "source": [
    "# Multivariable regression for host attributes\n",
    "host_attributes = ['host_response_percent','host_acceptance_percent','host_is_superhost_map']\n",
    "regressor = LinearRegression()\n",
    "regressor.fit(airbnb_data[host_attributes], airbnb_data['review_scores_rating'])\n",
    "rsquared = regressor.score(airbnb_data[host_attributes], airbnb_data['review_scores_rating'])\n",
    "print('Coefficient of predictor host response rate:', round(regressor.coef_[0], 3)) \n",
    "print('Coefficient of predictor host acceptance rate:', round(regressor.coef_[1], 3))\n",
    "print('Coefficient of predictor superhost status:', round(regressor.coef_[2], 3))\n",
    "print('r^2 of multivariable linear regression model:', round(rsquared, 3))"
   ]
  },
  {
   "cell_type": "markdown",
   "id": "a8f941ac",
   "metadata": {},
   "source": [
    "Host response rate and superhost status both had positive coefficients, indicating that ratings increase with their presence. Superhost status had the largest coefficient of 0.221, suggesting that it had the largest effect on the dependent variable of ratings. The r^2 value of the multivariable linear regression model for host attributes is 0.057, which is marginally higher than the r^2 values of each of the individual linear regressions. However, 0.057 is still a very low value overall, indicating that the correlation between host attributes (defined as host response percentage, host acceptance percentage, and superhost status) and overall Airbnb listing rating is weak."
   ]
  },
  {
   "cell_type": "code",
   "execution_count": 37,
   "id": "5e972e18",
   "metadata": {},
   "outputs": [
    {
     "name": "stdout",
     "output_type": "stream",
     "text": [
      "Coefficient of predictor number of guests accommodated: -0.007\n",
      "Coefficient of predictor number of bedrooms: 0.028\n",
      "Coefficient of predictor number of bathrooms: -0.045\n",
      "Coefficient of wifi amenity predictor:  0.208\n",
      "Coefficient of parking amenity predictor:  0.122\n",
      "Coefficient of pool amenity predictor:  -0.0\n",
      "Coefficient of kitchen amenity predictor:  0.049\n",
      "Coefficient of air conditioning amenity predictor:  0.043\n",
      "r^2 of multivariable linear regression model: 0.02\n"
     ]
    }
   ],
   "source": [
    "# Multivariable regression for listing attributes\n",
    "listing_attributes = ['accommodates','bedrooms','bathrooms', 'has_wifi', 'has_parking', 'has_pool', 'kitchen_access', 'has_ac']\n",
    "regressor = LinearRegression()\n",
    "regressor.fit(airbnb_data[listing_attributes], airbnb_data['review_scores_rating'])\n",
    "rsquared = regressor.score(airbnb_data[listing_attributes], airbnb_data['review_scores_rating'])\n",
    "print('Coefficient of predictor number of guests accommodated:', round(regressor.coef_[0], 3)) \n",
    "print('Coefficient of predictor number of bedrooms:', round(regressor.coef_[1], 3))\n",
    "print('Coefficient of predictor number of bathrooms:', round(regressor.coef_[2], 3))\n",
    "print('Coefficient of wifi amenity predictor: ', round(regressor.coef_[3], 3)) \n",
    "print('Coefficient of parking amenity predictor: ', round(regressor.coef_[4], 3))\n",
    "print('Coefficient of pool amenity predictor: ', round(regressor.coef_[5], 3))\n",
    "print('Coefficient of kitchen amenity predictor: ', round(regressor.coef_[6], 3))\n",
    "print('Coefficient of air conditioning amenity predictor: ', round(regressor.coef_[7], 3))\n",
    "print('r^2 of multivariable linear regression model:', round(rsquared, 3))"
   ]
  },
  {
   "cell_type": "markdown",
   "id": "4cb1e22a",
   "metadata": {},
   "source": [
    "The coefficient of the wifi amenity is the highest at 0.208, followed by parking at 0.122. These numbers are greater than the coefficients of the other amenities by a large margin and indicate that these two vriables have the largest effect on our dependent variable of ratings. Overall, most of the variables' coefficients had a positive effect on ratings, with the exception of guests accommodated at -0.007 and the pool amenity at -0.0. \n",
    "The r^2 value of the multivariable linear regression model was found to be 0.02, which is higher than any of the individual r^2 values found from single variable linear regression. However, 0.2 is still a low value and indicates that this regression may not be a well-fitted model. "
   ]
  },
  {
   "cell_type": "markdown",
   "id": "1d7c7e07",
   "metadata": {},
   "source": [
    "### *B. Logistic regression*"
   ]
  },
  {
   "cell_type": "markdown",
   "id": "3d80ec51-18b1-4b50-a1fd-ac2d3141d3d0",
   "metadata": {},
   "source": [
    "We will use a logistic regression to determine whether the presence or amount of any attributes can be used to predict whether a listing will have an above median rating. For continuous variables such as host acceptance rate and host response rate, we split the listings into intervals based on quantile, allowing for comparisons based on the level of engagement with each variable. For discrete or categorical variables such as whether the host is a superhost, we were able to compare the predictive power directly based on the options of the variables. \n",
    "\n",
    "We chose to categorize listings based on whether or not they were above the median for the reason that most of the data is skewed left and there are many outliers, which means the average rating is susceptible to influence from the few lower ratings. Additionally, when we categorized the continuous variables such as host acceptance percentage we categorized them based on percentile values since strictly categorizing them based on value resulted in very unevenly sized groups (again, due to the skewed-ness of the original data). \n",
    "\n",
    "We started off by creating a new column to track which Airbnb listings have an above median rating."
   ]
  },
  {
   "cell_type": "markdown",
   "id": "27df106a-c81d-4150-83fd-9c7ca01af175",
   "metadata": {},
   "source": [
    "**_Logistic regression using host attributes:_**"
   ]
  },
  {
   "cell_type": "code",
   "execution_count": 38,
   "id": "0798b4f1-254f-429a-bf6d-a33fea8bf0b4",
   "metadata": {},
   "outputs": [],
   "source": [
    "# Creation of column for categorizing host response percentage into bins\n",
    "host_response_percent_interval = pd.cut(airbnb_data['host_response_percent'],bins=[0, airbnb_data['host_response_percent'].quantile(0.1), airbnb_data['host_response_percent'].quantile(0.2), airbnb_data['host_response_percent'].quantile(0.3), airbnb_data['host_response_percent'].quantile(0.4)],labels=['0-10','10-20','20-30','30-100'], include_lowest = True)\n",
    "airbnb_data['host_response_percent_interval'] = host_response_percent_interval\n",
    "\n",
    "# Creation of column for categorizing host acceptance percentage into bins\n",
    "host_acceptance_percent_interval = pd.cut(airbnb_data['host_acceptance_percent'],bins=[0, airbnb_data['host_acceptance_percent'].quantile(0.1), airbnb_data['host_acceptance_percent'].quantile(0.2), airbnb_data['host_acceptance_percent'].quantile(0.3), airbnb_data['host_acceptance_percent'].quantile(0.4), airbnb_data['host_acceptance_percent'].quantile(0.5), airbnb_data['host_acceptance_percent'].quantile(0.6), airbnb_data['host_acceptance_percent'].quantile(0.7), airbnb_data['host_acceptance_percent'].quantile(0.8)],labels=['0-10','10-20','20-30','30-40','40-50','50-60','60-70','70-100'], include_lowest = True)\n",
    "airbnb_data['host_acceptance_percent_interval'] = host_acceptance_percent_interval"
   ]
  },
  {
   "cell_type": "markdown",
   "id": "136a112b-a86d-456a-8fd5-874f0c100f93",
   "metadata": {},
   "source": [
    "We created these columns to further evaluate whether or not certain standings in host attributes affected the overall rating of an Airbnb listing. It is important that we binned the interval based on quantile value rather than strict numerical values as most of this data is clustered in the higher values, so splitting by value would result in poor experimental design because groups would have drastically different sample sizes. "
   ]
  },
  {
   "cell_type": "code",
   "execution_count": 39,
   "id": "8f074879",
   "metadata": {},
   "outputs": [
    {
     "name": "stdout",
     "output_type": "stream",
     "text": [
      "The Coefficient of host_is_superhost_map and target is: 0.992\n",
      "The Coefficient of rp_0-10 and target is: 0.0\n",
      "The Coefficient of rp_10-20 and target is: 0.079\n",
      "The Coefficient of rp_20-30 and target is: -0.413\n",
      "The Coefficient of rp_30-100 and target is: 0.334\n",
      "The Coefficient of ap_0-10 and target is: 0.384\n",
      "The Coefficient of ap_10-20 and target is: 0.277\n",
      "The Coefficient of ap_20-30 and target is: 0.06\n",
      "The Coefficient of ap_30-40 and target is: 0.016\n",
      "The Coefficient of ap_40-50 and target is: -0.152\n",
      "The Coefficient of ap_50-60 and target is: -0.199\n",
      "The Coefficient of ap_60-70 and target is: -0.253\n",
      "The Coefficient of ap_70-100 and target is: -0.135\n",
      "Target Model Intercept: -0.527\n",
      "\n",
      "\n",
      "Number of listings used to test the data vs train the data: (9411, 4034)\n",
      "\n",
      "\n",
      "Score of one iteration of our model: 0.6120475954387704\n",
      "Cross Validated Scores: [0.60208256 0.65451841 0.64782447 0.63220528 0.51543325]\n",
      "Mean cross-validated accuracy: 0.610\n",
      "\n",
      "\n",
      "Baseline accuracy: 0.495\n"
     ]
    }
   ],
   "source": [
    "# Logistic Regression using Host Attributes: response rate, acceptance rate, is superhost or not\n",
    "airbnb_data['above_avg_rating'] = airbnb_data['review_scores_rating'].apply(lambda x: 1 if x > airbnb_data['review_scores_rating'].median() else 0)\n",
    "\n",
    "#dummy variable response rate\n",
    "response_percent_dummy = pd.get_dummies(airbnb_data['host_response_percent_interval'], prefix = \"rp\")\n",
    "\n",
    "#dummy variable acceptance rate\n",
    "acceptance_percent_dummy = pd.get_dummies(airbnb_data['host_acceptance_percent_interval'], prefix = \"ap\")\n",
    "\n",
    "#is host or superhost already binary\n",
    "\n",
    "#join them all to the table\n",
    "df_binary_host = airbnb_data[['above_avg_rating', 'host_is_superhost_map']].join(response_percent_dummy).join(acceptance_percent_dummy)\n",
    "\n",
    "#logistic model\n",
    "predictors = ['host_is_superhost_map', 'rp_0-10', 'rp_10-20',\n",
    "       'rp_20-30', 'rp_30-100', 'ap_0-10', 'ap_10-20', 'ap_20-30', 'ap_30-40',\n",
    "       'ap_40-50', 'ap_50-60', 'ap_60-70', 'ap_70-100']\n",
    "\n",
    "target_model = LogisticRegression(max_iter=1000).fit(df_binary_host[predictors], df_binary_host['above_avg_rating'])\n",
    "\n",
    "for v in predictors:\n",
    "    i = predictors.index(v)\n",
    "    print(\"The Coefficient of {} and target is: {}\".format(v, target_model.coef_[0][i].round(3)))\n",
    "    \n",
    "print(\"Target Model Intercept:\", round(target_model.intercept_[0],3))\n",
    "\n",
    "# train-test split (70%/30%)\n",
    "X_train, X_test, y_train, y_test = train_test_split(df_binary_host[predictors], df_binary_host['above_avg_rating'], test_size= 0.3)\n",
    "print('\\n')\n",
    "print(f\"Number of listings used to test the data vs train the data: {len(y_train), len(y_test)}\")\n",
    "\n",
    "# fit on train data, score on test data\n",
    "testing_model = LogisticRegression(max_iter=1000).fit(X_train, y_train)\n",
    "print('\\n')\n",
    "print(\"Score of one iteration of our model: {}\".format(testing_model.score(X_test, y_test)))\n",
    "\n",
    "#cross validate the score\n",
    "scores = cross_val_score(\n",
    "    LogisticRegression(max_iter=1000), \n",
    "    df_binary_host[predictors], \n",
    "    df_binary_host['above_avg_rating'], \n",
    "    cv=5\n",
    ")\n",
    "print(f'Cross Validated Scores: {scores}')\n",
    "print(f'Mean cross-validated accuracy: {scores.mean():.3f}') \n",
    "\n",
    "# compare to baseline guess = above, every time\n",
    "print('\\n')\n",
    "print('Baseline accuracy:', round(df_binary_host['above_avg_rating'].sum()/len(df_binary_host),3))"
   ]
  },
  {
   "cell_type": "markdown",
   "id": "f4c97748-1736-4efb-925f-77511c2ffce2",
   "metadata": {},
   "source": [
    "Based on the results of this logistic regression model, we can see that specific percentiles and characteristics of Airbnb hosts have a higher predictor effect than others to whether or not a listing's overall rating would be above or below the median overall rating of 4.82.\n",
    "\n",
    "From the results of our coefficients, we see that having a positive predictor for being above the median rating was if the response rate was above around the maximum value of 100%. Strangely, another strong predictor for being above the median rating was if the response rate was between the the 0th to 10th quantile. A possible explanation of this could be that many listings in popular cities like NYC are year-long bookings that mimic rentals. For these cases, hosts would not likely respond based on the popularity of their rental already. However, this is still an interesting relationship to look into and could also be a limitation to our data and results. A strong indicator of having a less than median rating would be having a response percentage between the 20th-30th percentile. These respective percentages are 90 to 97 percent. We originally predicted that there would be a positive relationship between the response percentage and acceptance percentage and ratings, but it is highly likely that there are confounding variables not taken into consideration during this part that require further analysis.\n",
    "\n",
    "Overall, after performing training on 70% of our data and testing the results of the model with our 30% of different test data, our logistic model scored higher than our baseline accuracy. Further analysis is necessary to determine if there is a statistical difference but it was interesting to find the specific intervals of a continuous variable that could be responsible for pushing a listing above or below the median rating. "
   ]
  },
  {
   "cell_type": "markdown",
   "id": "871bd478-8483-49bf-b1c4-7d195f6e4ed0",
   "metadata": {},
   "source": [
    "**_Logistic model using listing attributes:_**"
   ]
  },
  {
   "cell_type": "code",
   "execution_count": 40,
   "id": "4ec76452-bd3d-4156-9e62-59727f9c9b6f",
   "metadata": {},
   "outputs": [
    {
     "name": "stdout",
     "output_type": "stream",
     "text": [
      "The Coefficient of has_wifi and target is: 0.35\n",
      "The Coefficient of has_parking and target is: -0.013\n",
      "The Coefficient of has_pool and target is: 0.428\n",
      "The Coefficient of kitchen_access and target is: 0.316\n",
      "The Coefficient of has_ac and target is: 0.025\n",
      "The Coefficient of neighbhorhood_Bronx and target is: -0.087\n",
      "The Coefficient of neighbhorhood_Brooklyn and target is: 0.056\n",
      "The Coefficient of neighbhorhood_Manhattan and target is: -0.057\n",
      "The Coefficient of neighbhorhood_Queens and target is: -0.113\n",
      "The Coefficient of neighbhorhood_Staten Island and target is: 0.157\n",
      "The Coefficient of accommodates_1 and target is: 0.733\n",
      "The Coefficient of accommodates_2 and target is: 0.65\n",
      "The Coefficient of accommodates_3 and target is: 0.598\n",
      "The Coefficient of accommodates_4 and target is: 0.545\n",
      "The Coefficient of accommodates_5 and target is: 0.386\n",
      "The Coefficient of accommodates_6 and target is: 0.374\n",
      "The Coefficient of accommodates_7 and target is: -0.084\n",
      "The Coefficient of accommodates_8 and target is: -0.046\n",
      "The Coefficient of accommodates_9 and target is: -0.516\n",
      "The Coefficient of accommodates_10 and target is: -0.208\n",
      "The Coefficient of accommodates_11 and target is: -0.256\n",
      "The Coefficient of accommodates_12 and target is: -0.582\n",
      "The Coefficient of accommodates_13 and target is: -1.31\n",
      "The Coefficient of accommodates_14 and target is: -0.134\n",
      "The Coefficient of accommodates_15 and target is: 0.036\n",
      "The Coefficient of accommodates_16 and target is: -0.231\n",
      "The Coefficient of bathrooms_0.0 and target is: -0.444\n",
      "The Coefficient of bathrooms_0.5 and target is: -0.542\n",
      "The Coefficient of bathrooms_1.0 and target is: -0.086\n",
      "The Coefficient of bathrooms_1.5 and target is: 0.07\n",
      "The Coefficient of bathrooms_2.0 and target is: -0.149\n",
      "The Coefficient of bathrooms_2.5 and target is: 0.233\n",
      "The Coefficient of bathrooms_3.0 and target is: -0.017\n",
      "The Coefficient of bathrooms_3.5 and target is: 0.836\n",
      "The Coefficient of bathrooms_4.0 and target is: -0.044\n",
      "The Coefficient of bathrooms_4.5 and target is: 0.446\n",
      "The Coefficient of bathrooms_5.0 and target is: -0.392\n",
      "The Coefficient of bathrooms_5.5 and target is: 0.681\n",
      "The Coefficient of bathrooms_6.5 and target is: -0.315\n",
      "The Coefficient of bathrooms_7.0 and target is: -0.199\n",
      "The Coefficient of bathrooms_8.0 and target is: -0.506\n",
      "The Coefficient of bathrooms_15.5 and target is: 0.382\n",
      "The Coefficient of bedrooms_1.0 and target is: -0.464\n",
      "The Coefficient of bedrooms_2.0 and target is: -0.237\n",
      "The Coefficient of bedrooms_3.0 and target is: -0.128\n",
      "The Coefficient of bedrooms_4.0 and target is: 0.347\n",
      "The Coefficient of bedrooms_5.0 and target is: 0.266\n",
      "The Coefficient of bedrooms_6.0 and target is: 0.874\n",
      "The Coefficient of bedrooms_7.0 and target is: -0.932\n",
      "The Coefficient of bedrooms_8.0 and target is: -0.364\n",
      "The Coefficient of bedrooms_9.0 and target is: 0.21\n",
      "The Coefficient of bedrooms_14.0 and target is: 0.382\n",
      "Target Model Intercept: -0.748\n",
      "\n",
      "\n",
      "Number of listings used to test the data vs train the data: (9411, 4034)\n",
      "\n",
      "\n",
      "Score of one iteration of our model: 0.5193356470004958\n",
      "Cross Validated Scores: [0.52658981 0.50278914 0.52547415 0.52807735 0.51766456]\n",
      "Mean cross-validated accuracy: 0.520\n",
      "\n",
      "\n",
      "Baseline accuracy: 0.495\n"
     ]
    }
   ],
   "source": [
    "#listing attributes\n",
    "\n",
    "#'neighbourhood_group_cleansed', 'accommodates', 'bathrooms', 'bedrooms', 'has_wifi', 'has_parking', 'has_pool', 'kitchen_access', 'has_ac', 'price_interval',\n",
    "\n",
    "#map neighborhood group\n",
    "neighborhood_dummy = pd.get_dummies(airbnb_data['neighbourhood_group_cleansed'], prefix = \"neighbhorhood\")\n",
    "\n",
    "#map accommodates group\n",
    "accommodates_dummy = pd.get_dummies(airbnb_data['accommodates'], prefix = \"accommodates\")\n",
    "\n",
    "#map bathrooms group\n",
    "bathrooms_dummy = pd.get_dummies(airbnb_data['bathrooms'], prefix = \"bathrooms\")\n",
    "\n",
    "#map bedrooms group\n",
    "bedrooms_dummy = pd.get_dummies(airbnb_data['bedrooms'], prefix = \"bedrooms\")\n",
    "\n",
    "#joining all dummy variables of the predictors to one dataframe (df_binary)\n",
    "df_binary_listing = airbnb_data[['above_avg_rating','has_wifi', 'has_parking', 'has_pool', 'kitchen_access', 'has_ac']].join(neighborhood_dummy).join(accommodates_dummy).join(bathrooms_dummy).join(bedrooms_dummy)\n",
    "\n",
    "#logistic model\n",
    "predictors = ['has_wifi',\n",
    "       'has_parking', 'has_pool', 'kitchen_access', 'has_ac',\n",
    "       'neighbhorhood_Bronx', 'neighbhorhood_Brooklyn',\n",
    "       'neighbhorhood_Manhattan', 'neighbhorhood_Queens',\n",
    "       'neighbhorhood_Staten Island', 'accommodates_1', 'accommodates_2',\n",
    "       'accommodates_3', 'accommodates_4', 'accommodates_5', 'accommodates_6',\n",
    "       'accommodates_7', 'accommodates_8', 'accommodates_9', 'accommodates_10',\n",
    "       'accommodates_11', 'accommodates_12', 'accommodates_13',\n",
    "       'accommodates_14', 'accommodates_15', 'accommodates_16',\n",
    "       'bathrooms_0.0', 'bathrooms_0.5', 'bathrooms_1.0', 'bathrooms_1.5',\n",
    "       'bathrooms_2.0', 'bathrooms_2.5', 'bathrooms_3.0', 'bathrooms_3.5',\n",
    "       'bathrooms_4.0', 'bathrooms_4.5', 'bathrooms_5.0', 'bathrooms_5.5',\n",
    "       'bathrooms_6.5', 'bathrooms_7.0', 'bathrooms_8.0', 'bathrooms_15.5',\n",
    "       'bedrooms_1.0', 'bedrooms_2.0', 'bedrooms_3.0', 'bedrooms_4.0',\n",
    "       'bedrooms_5.0', 'bedrooms_6.0', 'bedrooms_7.0', 'bedrooms_8.0',\n",
    "       'bedrooms_9.0', 'bedrooms_14.0']\n",
    "\n",
    "target_model = LogisticRegression(max_iter=1000).fit(df_binary_listing[predictors], df_binary_listing['above_avg_rating'])\n",
    "\n",
    "for v in predictors:\n",
    "    i = predictors.index(v)\n",
    "    print(\"The Coefficient of {} and target is: {}\".format(v, target_model.coef_[0][i].round(3)))\n",
    "    \n",
    "print(\"Target Model Intercept:\", round(target_model.intercept_[0],3))\n",
    "\n",
    "# train-test split (70%/30%)\n",
    "X_train, X_test, y_train, y_test = train_test_split(df_binary_listing[predictors], df_binary_listing['above_avg_rating'], test_size= 0.3)\n",
    "print('\\n')\n",
    "print(f\"Number of listings used to test the data vs train the data: {len(y_train), len(y_test)}\")\n",
    "\n",
    "# fit on train data, score on test data\n",
    "testing_model = LogisticRegression(max_iter=1000).fit(X_train, y_train)\n",
    "print('\\n')\n",
    "print(\"Score of one iteration of our model: {}\".format(testing_model.score(X_test, y_test)))\n",
    "\n",
    "# cross validation\n",
    "scores = cross_val_score(\n",
    "    LogisticRegression(max_iter=1000), \n",
    "    df_binary_listing[predictors], \n",
    "    df_binary_listing['above_avg_rating'], \n",
    "    cv=5\n",
    ")\n",
    "print(f'Cross Validated Scores: {scores}')\n",
    "print(f'Mean cross-validated accuracy: {scores.mean():.3f}') \n",
    "\n",
    "# compare to baseline guess = above, every time\n",
    "print('\\n')\n",
    "print('Baseline accuracy:', round(df_binary_listing['above_avg_rating'].sum()/len(df_binary_listing),3))\n"
   ]
  },
  {
   "cell_type": "markdown",
   "id": "a3302777-9dd8-4339-90a1-a797689395a6",
   "metadata": {},
   "source": [
    "The results of this logistic regression shows that specific percentiles of listing characteristics have a higher coefficient than others which suggests their direction of prediction (above or below the median overall rating of 4.82).\n",
    "\n",
    "From the results of our coefficients, we see that having a positive predictor for being above the median rating was seen in the categorizations of neighborhoods. Strangely, the location of the most popular tourist attraction in New York City (Manhattan) had a negative influence based on whether or not a listing was above or below the median. If a neighborhood of a listing is in Staten Island, it was a more positive predictor for whether or not a listing was above the median review. Another high coefficient seen is having 5 and a half bathrooms. However, only two listings in this entire dataset have this attribute so it is heavily skewed based on the small sample size. This raises a limitation for the remainder of our analyses with these results because the number of listings that share a certain attribute are not equally distributed. This can also be said for the high coefficient associated with having 8 bedrooms for which only 7 listings share. \n",
    "\n",
    "After performing training on 70% of our data and testing the results of the model with our 30% of different test data, our logistic model scored higher than our baseline accuracy. Further analysis is necessary to determine if there is a statistical difference. Another interesting point to note is the lower mean cross-validated accuracy of our model using only listing attributes as compared to host attributes performed before. This can be due to the sheer amount of variation in listing attributes that could have highly conflicted with one another and been negatively impacted by unequal distribution and custering of this data. "
   ]
  },
  {
   "cell_type": "markdown",
   "id": "d5f16a41-f952-473a-a1cf-1314b0b13919",
   "metadata": {},
   "source": [
    "**_Logistic model using price:_**"
   ]
  },
  {
   "cell_type": "code",
   "execution_count": 41,
   "id": "bdd5f2d3-bdce-42be-957c-54105038f2f2",
   "metadata": {},
   "outputs": [
    {
     "name": "stdout",
     "output_type": "stream",
     "text": [
      "The Coefficient of priceq_0-10 and target is: -0.402\n",
      "The Coefficient of priceq_10-20 and target is: -0.263\n",
      "The Coefficient of priceq_20-30 and target is: -0.164\n",
      "The Coefficient of priceq_30-40 and target is: -0.139\n",
      "The Coefficient of priceq_40-50 and target is: -0.054\n",
      "The Coefficient of priceq_50-60 and target is: 0.123\n",
      "The Coefficient of priceq_60-70 and target is: 0.071\n",
      "The Coefficient of priceq_70-80 and target is: 0.228\n",
      "The Coefficient of priceq_80-90 and target is: 0.286\n",
      "The Coefficient of priceq_90-100 and target is: 0.297\n",
      "Target Model Intercept: -0.017\n",
      "\n",
      "\n",
      "Number of listings used to test the data vs train the data: (9411, 4034)\n",
      "\n",
      "\n",
      "Score of one iteration of our model: 0.5587506197322757\n",
      "Cross Validated Scores: [0.55224991 0.57010041 0.5626627  0.52807735 0.52324284]\n",
      "Mean cross-validated accuracy: 0.547\n",
      "\n",
      "\n",
      "Baseline accuracy: 0.495\n"
     ]
    }
   ],
   "source": [
    "# Creation of price bins\n",
    "price_interval = pd.cut(airbnb_data['price'],bins=[0, airbnb_data['price'].quantile(0.1), airbnb_data['price'].quantile(0.2), airbnb_data['price'].quantile(0.3), airbnb_data['price'].quantile(0.4), airbnb_data['price'].quantile(0.5), airbnb_data['price'].quantile(0.6), airbnb_data['price'].quantile(0.7), airbnb_data['price'].quantile(0.8), airbnb_data['price'].quantile(0.9), airbnb_data['price'].max()],labels=['0-10','10-20','20-30','30-40','40-50','50-60','60-70','70-80','80-90','90-100'], include_lowest = True)\n",
    "airbnb_data['price_interval'] = price_interval\n",
    "\n",
    "#map price group\n",
    "price_dummy = pd.get_dummies(airbnb_data['price_interval'], prefix = \"priceq\")\n",
    "price_dummy\n",
    "\n",
    "#joining price dummy variables of the predictors to one dataframe (df_binary)\n",
    "df_binary_price = airbnb_data[['above_avg_rating']].join(price_dummy)\n",
    "\n",
    "#logistic model\n",
    "predictors = ['priceq_0-10', 'priceq_10-20', 'priceq_20-30',\n",
    "       'priceq_30-40', 'priceq_40-50', 'priceq_50-60', 'priceq_60-70',\n",
    "       'priceq_70-80', 'priceq_80-90', 'priceq_90-100']\n",
    "\n",
    "target_model = LogisticRegression(max_iter=1000).fit(df_binary_price[predictors], df_binary_price['above_avg_rating'])\n",
    "\n",
    "for v in predictors:\n",
    "    i = predictors.index(v)\n",
    "    print(\"The Coefficient of {} and target is: {}\".format(v, target_model.coef_[0][i].round(3)))\n",
    "    \n",
    "print(\"Target Model Intercept:\", round(target_model.intercept_[0],3))\n",
    "\n",
    "# train-test split (70%/30%)\n",
    "X_train, X_test, y_train, y_test = train_test_split(df_binary_price[predictors], df_binary_price['above_avg_rating'], test_size= 0.3)\n",
    "print('\\n')\n",
    "print(f\"Number of listings used to test the data vs train the data: {len(y_train), len(y_test)}\")\n",
    "\n",
    "# fit on train data, score on test data\n",
    "testing_model = LogisticRegression(max_iter=1000).fit(X_train, y_train)\n",
    "print('\\n')\n",
    "print(\"Score of one iteration of our model: {}\".format(testing_model.score(X_test, y_test)))\n",
    "\n",
    "# cross validation\n",
    "scores = cross_val_score(\n",
    "    LogisticRegression(max_iter=1000), \n",
    "    df_binary_price[predictors], \n",
    "    df_binary_price['above_avg_rating'], \n",
    "    cv=5\n",
    ")\n",
    "print(f'Cross Validated Scores: {scores}')\n",
    "print(f'Mean cross-validated accuracy: {scores.mean():.3f}') \n",
    "\n",
    "# compare to baseline guess = above, every time\n",
    "print('\\n')\n",
    "print('Baseline accuracy:', round(df_binary_price['above_avg_rating'].sum()/len(df_binary_price),3))"
   ]
  },
  {
   "cell_type": "markdown",
   "id": "75d228fe-0d4e-406c-be7f-4fdf7e2c57d1",
   "metadata": {},
   "source": [
    "From the results of this logisitic regression model, we can see that specific percentiles of prices of these Airbnb listings have a higher predictor affect than others to whether or not a listing's overall rating would be above or below the median overall rating of 4.82.\n",
    "\n",
    "Evaluating the obtained coefficients, we see that there is a consistent trend in growing coefficients as the percentile for price increases. This is interesting to observe as it suggests that there the higher the price in relative to other listings, the more likely it is to be above the median rating. This is not surprising based on the massive expense of sustaining a life in New York City but is also relatively self explanatory as all of us there must be a concrete reason why certain listings are roughly 10 times more expensive than others. It would be interesting to combine all the variables too to see if maybe this price result is due to confounding variables that we examined earlier in our host and listing attributes. \n",
    "\n",
    "Our logistic model scored higher than our baseline accuracy. Further analysis is necessary to determine if there is a statistical difference. Another interesting point to note is that using price as a predictor resulted in a mean cross-validated accuracy less accurate than that generated by host attributes but more accurate than that of listing attributes."
   ]
  },
  {
   "cell_type": "markdown",
   "id": "1944688c",
   "metadata": {},
   "source": [
    "### III. Airbnb rating as a predictor of booking rate"
   ]
  },
  {
   "cell_type": "markdown",
   "id": "c2369f71",
   "metadata": {},
   "source": [
    "In the third portion of our data analysis, we aim to connect Airbnb rating to the booking rate of the listing. Our intention in conducting this follow-up analysis is to be able to gain insight on whether increasing Airbnb rating is actually profitable for the post, i.e. if their booking rate and therefore profit will actually increase along with an increase in rating. Similar to our analysis of overall Airbnb rating, we begin by calculating summary statistics as well as covariance and correlation statistics."
   ]
  },
  {
   "cell_type": "code",
   "execution_count": 42,
   "id": "0d253bf4",
   "metadata": {},
   "outputs": [
    {
     "name": "stdout",
     "output_type": "stream",
     "text": [
      "Average percentage of nights in the coming year booked: 50.943%\n",
      "Median of the percentage of nights in the coming year booked: 53.970%\n",
      "Standard deviation of percentage of nights in the coming year booked: 34.839%\n"
     ]
    }
   ],
   "source": [
    "#Analysis of booking percentage by ratings\n",
    "booked_mean = airbnb_data['percent_booked'].mean()\n",
    "booked_median = airbnb_data['percent_booked'].median()\n",
    "booked_std = airbnb_data['percent_booked'].std()\n",
    "print('Average percentage of nights in the coming year booked: {:.3f}%'.format(booked_mean))\n",
    "print('Median of the percentage of nights in the coming year booked: {:.3f}%'.format(booked_median))\n",
    "print('Standard deviation of percentage of nights in the coming year booked: {:.3f}%'.format(booked_std))"
   ]
  },
  {
   "cell_type": "markdown",
   "id": "b038ca8c",
   "metadata": {},
   "source": [
    "The mean booking rate of 50.94% and the median booking rate of 53.97% tell us that on average listings are half booked throughout the year between 9/2/2021 and 9/1/2022. The standard deviation of 34.84% tells us that there is significant deviation in booking rate among listings and that the data is more spread out. "
   ]
  },
  {
   "cell_type": "code",
   "execution_count": 43,
   "id": "a3fc8de2",
   "metadata": {},
   "outputs": [
    {
     "name": "stdout",
     "output_type": "stream",
     "text": [
      "Covariance between percentage of nights booked and Airbnb rating: 1.387\n",
      "Pearson correlation between percentage of nights booked and Airbnb rating: 0.080\n"
     ]
    }
   ],
   "source": [
    "# Covariance and correlation statistics\n",
    "cov_booked = (airbnb_data['review_scores_rating'].astype(float)).cov(airbnb_data['percent_booked'].astype(float))\n",
    "pcorr_booked = (airbnb_data['review_scores_rating'].astype(float)).corr(airbnb_data['percent_booked'].astype(float))\n",
    "print('Covariance between percentage of nights booked and Airbnb rating: {:.3f}'.format(cov_booked))\n",
    "print('Pearson correlation between percentage of nights booked and Airbnb rating: {:.3f}'.format(pcorr_booked))"
   ]
  },
  {
   "cell_type": "markdown",
   "id": "01d3a50a",
   "metadata": {},
   "source": [
    "The lack of a distinguishable pattern in the scatterplot and boxplot is affirmed by the low Pearson correlation value. Although the covariance is not as close to 0 as many of the other covariances calculated in this analysis, the low Pearson value still conveys that there is no strong relationship between an Airbnb's overall rating and the percentage of nights the listing is booked out in the coming 365 days."
   ]
  },
  {
   "cell_type": "code",
   "execution_count": 44,
   "id": "85abf43a",
   "metadata": {},
   "outputs": [
    {
     "data": {
      "image/png": "[encoded data removed]",
      "text/plain": [
       "<Figure size 432x288 with 1 Axes>"
      ]
     },
     "metadata": {},
     "output_type": "display_data"
    },
    {
     "name": "stdout",
     "output_type": "stream",
     "text": [
      "Regression Slope: [5.583]\n",
      "r^2: 0.006\n"
     ]
    }
   ],
   "source": [
    "# Linear regression for percent booked vs review scores rating\n",
    "sns.regplot(x=airbnb_data['review_scores_rating'], y=airbnb_data['percent_booked'], scatter_kws={'alpha': 0.05}, line_kws={'color': 'red'})\n",
    "plt.title('Percentage of Airbnb Rating vs Booked Nights')\n",
    "plt.xlabel('Overall Airbnb Rating Out of 5 Points')\n",
    "plt.ylabel('Percentage of Nights the Airbnb is\\n Booked from 9/2/2021 to 9/1/2022')\n",
    "plt.show()\n",
    "\n",
    "# Regression analysis\n",
    "learner = LinearRegression()\n",
    "learner.fit(airbnb_data[['review_scores_rating']], airbnb_data[['percent_booked']]) \n",
    "predicted_rating = learner.predict(airbnb_data[['review_scores_rating']]) \n",
    "print('Regression Slope:', learner.coef_[0].round(3))\n",
    "print('r^2:', round(learner.score(airbnb_data[['review_scores_rating']], airbnb_data[['percent_booked']]),3))"
   ]
  },
  {
   "cell_type": "markdown",
   "id": "28a05bb4",
   "metadata": {},
   "source": [
    "Fitting a linear regression model to the Airbnb's overall review rating (out of 5 points) as the y-variable and the percentage of booked nights for the next 365 days after the data was collected as the x-variable, we calculate a regression slope of 5.583 and an r^2 value of 0.006. The interpretation of the slope is that as Airbnb rating increases by one point, the percentage of nights booked would increase by approximately 5.583%. The r^2 value is so low, however, that a linear fit is not appropriate or predictive for these two variables. However, because the regression slope was relatively meaningful, the low r^2 value doesn't necessarily mean that there is definitely no relationship, just that a linear relation is unlikely. Thus, we proceeded by fitting a logistic regression model to the data."
   ]
  },
  {
   "cell_type": "code",
   "execution_count": 45,
   "id": "931f6675-8edf-4579-8620-0146233054be",
   "metadata": {},
   "outputs": [
    {
     "name": "stdout",
     "output_type": "stream",
     "text": [
      "The Coefficient of ratings_0-10 and target is: -0.331\n",
      "The Coefficient of ratings_10-20 and target is: -0.221\n",
      "The Coefficient of ratings_20-30 and target is: -0.038\n",
      "The Coefficient of ratings_30-40 and target is: -0.06\n",
      "The Coefficient of ratings_40-50 and target is: 0.006\n",
      "The Coefficient of ratings_50-60 and target is: 0.19\n",
      "The Coefficient of ratings_60-70 and target is: 0.26\n",
      "The Coefficient of ratings_70-100 and target is: 0.157\n",
      "Target Model Intercept: -0.036\n",
      "\n",
      "\n",
      "Number of listings used to test the data vs train the data: (9411, 4034)\n",
      "\n",
      "\n",
      "Score of one iteration of our model: 0.5322260783341597\n",
      "Cross Validated Scores: [0.52844924 0.53737449 0.53663072 0.53514318 0.52733358]\n",
      "Mean cross-validated accuracy: 0.533\n",
      "\n",
      "\n",
      "Baseline accuracy: 0.498\n"
     ]
    }
   ],
   "source": [
    "# Creation of ratings bins\n",
    "rating_interval = pd.cut(airbnb_data['review_scores_rating'],bins=[0, airbnb_data['review_scores_rating'].quantile(0.1), airbnb_data['review_scores_rating'].quantile(0.2), airbnb_data['review_scores_rating'].quantile(0.3), airbnb_data['review_scores_rating'].quantile(0.4), airbnb_data['review_scores_rating'].quantile(0.5), airbnb_data['review_scores_rating'].quantile(0.6), airbnb_data['review_scores_rating'].quantile(0.7), airbnb_data['review_scores_rating'].max()],labels=['0-10','10-20','20-30','30-40','40-50','50-60','60-70','70-100'], include_lowest = True )\n",
    "airbnb_data['rating_interval'] = rating_interval\n",
    "\n",
    "# predict above or below mean or median?? \n",
    "airbnb_data['above_avg_booking'] = airbnb_data['percent_booked'].apply(lambda x: 1 if x > airbnb_data['percent_booked'].median() else 0)\n",
    "\n",
    "#dummy rating intervals\n",
    "rating_dummy = pd.get_dummies(airbnb_data['rating_interval'], prefix = \"ratings\")\n",
    "\n",
    "#joining price dummy variables of the predictors to one dataframe (df_binary)\n",
    "df_binary_rating = airbnb_data[['above_avg_booking']].join(rating_dummy)\n",
    "\n",
    "df_binary_rating.columns\n",
    "#logistic model\n",
    "predictors = ['ratings_0-10', 'ratings_10-20', 'ratings_20-30',\n",
    "       'ratings_30-40', 'ratings_40-50', 'ratings_50-60', 'ratings_60-70',\n",
    "       'ratings_70-100']\n",
    "\n",
    "target_model = LogisticRegression(max_iter=1000).fit(df_binary_rating[predictors], df_binary_rating['above_avg_booking'])\n",
    "\n",
    "for v in predictors:\n",
    "    i = predictors.index(v)\n",
    "    print(\"The Coefficient of {} and target is: {}\".format(v, target_model.coef_[0][i].round(3)))\n",
    "    \n",
    "print(\"Target Model Intercept:\", round(target_model.intercept_[0],3))\n",
    "\n",
    "# train-test split (70%/30%)\n",
    "X_train, X_test, y_train, y_test = train_test_split(df_binary_rating[predictors], df_binary_rating['above_avg_booking'], test_size= 0.3)\n",
    "print('\\n')\n",
    "print(f\"Number of listings used to test the data vs train the data: {len(y_train), len(y_test)}\")\n",
    "\n",
    "# fit on train data, score on test data\n",
    "testing_model = LogisticRegression(max_iter=1000).fit(X_train, y_train)\n",
    "print('\\n')\n",
    "print(\"Score of one iteration of our model: {}\".format(testing_model.score(X_test, y_test)))\n",
    "\n",
    "# cross validation\n",
    "scores = cross_val_score(\n",
    "    LogisticRegression(max_iter=1000), \n",
    "    df_binary_rating[predictors], \n",
    "    df_binary_rating['above_avg_booking'], \n",
    "    cv=5\n",
    ")\n",
    "print(f'Cross Validated Scores: {scores}')\n",
    "print(f'Mean cross-validated accuracy: {scores.mean():.3f}') \n",
    "\n",
    "# compare to baseline guess = above, every time\n",
    "print('\\n')\n",
    "print('Baseline accuracy:', round(df_binary_rating['above_avg_booking'].sum()/len(df_binary_rating),3)) \n"
   ]
  },
  {
   "cell_type": "code",
   "execution_count": 46,
   "id": "9fac3f90-d01c-4f10-b81d-5b71bb27eb84",
   "metadata": {},
   "outputs": [
    {
     "data": {
      "text/plain": [
       "53.97"
      ]
     },
     "execution_count": 46,
     "metadata": {},
     "output_type": "execute_result"
    }
   ],
   "source": [
    "airbnb_data['percent_booked'].median()"
   ]
  },
  {
   "cell_type": "markdown",
   "id": "0e15ea3d-7af6-4dae-a374-56f32afafca8",
   "metadata": {},
   "source": [
    "Fitting a logistic regression model demonstrates that specific percentiles of Airbnb reviews have a higher predictor affect than others to whether or not a listing's booking percentage in the next upcoming year would be above or below the median overall booking percentage of 53.97%.\n",
    "\n",
    "From the results of our coefficients, we see that there is a consistent trend in growing coefficients as the percentile for ratings increases. This is our key message to our target audience of Airbnb hosts in New York City as booking percentage is most likely directly correlated with generated revenue. With respect to our day-to-day experiences in traveling, we understand that a hotel with bad reviews is less likely to get booked if prices are the shared with other hotels. Therefore, an interesting next step and possible further analysis could be if listings were grouped based on the price as well as review to predict the percent booked of a listing compared to the others. The results of this logistic regression is best coupled with our above results regarding host attribute, listing attribute, and price as predictors for overall rating as those are the more approachable ways to improve Airbnb revenue outcome. A limitation for this data is again how around 30% of all listings in this dataset share a maximum review rating of 5.0.\n",
    "\n",
    "Overall, after performing training on 70% of our data and testing the results of the model with our 30% of different test data, our logistic model scored higher than our baseline accuracy. Further analysis is necessary to determine if there is a statistical difference. "
   ]
  },
  {
   "cell_type": "markdown",
   "id": "308f4e55",
   "metadata": {},
   "source": [
    "### IV. Evaluation of significance"
   ]
  },
  {
   "cell_type": "markdown",
   "id": "0724a633-afbb-425a-9ca4-d60a377ec4c5",
   "metadata": {},
   "source": [
    "We decided to use analysis of variance (ANOVA) to verify whether there is a significant difference between the average ratings of Airbnb listings based on the levels of presence of different host and listing attributes. We chose to use an ANOVA test rather than perform repeated T-tests to minimize the chances of a type 1 error. Additionally, we chose to employ ANOVA because this technique allows us to compare our widespread categorical data using one system. The numerical variable would be the overall ratings of Airbnb listings, while the categorical data is spread into intervals for comparison.\n",
    "\n",
    "Our null hypothesis is that the overall rating of a listing is equal in all different intervals of a categorical variable (host or listing attribute), while the alternate hypothesis would be that there is at least one average overall rating for an interval of an attribute that is different from that of the others. \n",
    "\n",
    "For the attributes for which the ANOVA test determined a significant difference in average of overall ratings and booking rate, further analysis must be done to determine which specific value of that attribute was distinnctive. "
   ]
  },
  {
   "cell_type": "markdown",
   "id": "7ad67ca8-aef7-4d3b-ae76-df0d964692e1",
   "metadata": {},
   "source": [
    "We begin with a function that can help us further evaluate our result and print a result with context to our variables. We use the commonly accepted alpha value of 5% to evaluate whether the average y variables (in our case, this is in the form of overall rating and booking percentage) based on the grouping on a predictor variable (in our case, the individual host and listing attributes) are significantly different from another. \n",
    "\n",
    "Ideally, we would evaluate which specific group has a different average from the others but, as shown in our linear regression, no meaningful trends were shown in our scatter plots and linear regressions which suggest that many of these differences and evaluations of significance could result from outliers. "
   ]
  },
  {
   "cell_type": "code",
   "execution_count": 47,
   "id": "e9a3bc5c-05d7-4896-81f2-5d2069faf874",
   "metadata": {},
   "outputs": [],
   "source": [
    "#used to determine if our p value is significant enough or not (alpha = 0.05 for our experiments)\n",
    "def isSignificant(p, alpha):\n",
    "    if p > alpha:\n",
    "        print('Same distributions (fail to reject H0)')\n",
    "    else:\n",
    "        print('Different distributions (reject H0)')"
   ]
  },
  {
   "cell_type": "markdown",
   "id": "ad23063e-49d9-43eb-bed5-35a19cdf7873",
   "metadata": {},
   "source": [
    "### *A. Host attributes*"
   ]
  },
  {
   "cell_type": "code",
   "execution_count": 48,
   "id": "abf514ce-2aab-4924-a713-835263cf3440",
   "metadata": {},
   "outputs": [
    {
     "name": "stdout",
     "output_type": "stream",
     "text": [
      "Host Response Percent\n",
      "Test statistic=74.212, p=0.000\n",
      "Different distributions (reject H0)\n"
     ]
    }
   ],
   "source": [
    "#Host Response Percent\n",
    "data0 = airbnb_data['review_scores_value'].loc[airbnb_data['host_response_percent_interval'] == '0-10']\n",
    "data1 = airbnb_data['review_scores_value'].loc[airbnb_data['host_response_percent_interval'] == '10-20']\n",
    "data2 = airbnb_data['review_scores_value'].loc[airbnb_data['host_response_percent_interval'] == '20-30']\n",
    "data3 = airbnb_data['review_scores_value'].loc[airbnb_data['host_response_percent_interval'] == '30-100']\n",
    "\n",
    "# compare samples\n",
    "print(\"Host Response Percent\")\n",
    "stat, p = f_oneway(data0, data1, data2, data3)\n",
    "print('Test statistic=%.3f, p=%.3f' % (stat, p))\n",
    "\n",
    "#interpret\n",
    "isSignificant(p,0.05)"
   ]
  },
  {
   "cell_type": "markdown",
   "id": "958c1d9c-9686-49e1-a228-cdae71a650b8",
   "metadata": {},
   "source": [
    "**_Host response percentage:_**\n",
    "\n",
    "In the above analysis, it is made evident that there is a statistically significant difference in the average overall rating based on a host's response percentage. This is because the respective p-values were consistently less than the significance level of alpha = 0.05.\n",
    "\n",
    "A few explanations for this can come in the form of skewness in the data that resulted in the uneven distribution of datapoints. An example that further illustrates this is how having a 100% acceptance rate was something shared by around 70% of all hosts. Our attemps of evenly distributing the groups were often hindered by the last interval in which all the hosts shared almost all maximum scores for their respective attribute. For future analysis, performing t-tests between all the pairings in a way that wouldn't significantly increase the chances of a Type 1 error would be ideal to find which specific interval of the response percent was different from the others and analyzing specifically the listings that fall into that category. "
   ]
  },
  {
   "cell_type": "code",
   "execution_count": 49,
   "id": "418d1470-598f-4d4b-abc3-544cb580222a",
   "metadata": {},
   "outputs": [
    {
     "name": "stdout",
     "output_type": "stream",
     "text": [
      "Host Acceptance Percent\n",
      "Test statistic=5.513, p=0.000\n",
      "Different distributions (reject H0)\n"
     ]
    }
   ],
   "source": [
    "# Host Acceptance Percent\n",
    "data0 = airbnb_data['review_scores_value'].loc[airbnb_data['host_acceptance_percent_interval'] == '0-10']\n",
    "data1 = airbnb_data['review_scores_value'].loc[airbnb_data['host_acceptance_percent_interval'] == '10-20']\n",
    "data2 = airbnb_data['review_scores_value'].loc[airbnb_data['host_acceptance_percent_interval'] == '20-30']\n",
    "data3 = airbnb_data['review_scores_value'].loc[airbnb_data['host_acceptance_percent_interval'] == '30-40']\n",
    "data4 = airbnb_data['review_scores_value'].loc[airbnb_data['host_acceptance_percent_interval'] == '40-50']\n",
    "data5 = airbnb_data['review_scores_value'].loc[airbnb_data['host_acceptance_percent_interval'] == '50-60']\n",
    "data6 = airbnb_data['review_scores_value'].loc[airbnb_data['host_acceptance_percent_interval'] == '60-70']\n",
    "data7 = airbnb_data['review_scores_value'].loc[airbnb_data['host_acceptance_percent_interval'] == '70-100']\n",
    "\n",
    "# Compare samples\n",
    "print(\"Host Acceptance Percent\")\n",
    "stat, p = f_oneway(data0, data1, data2, data3, data4, data5, data6, data7)\n",
    "print('Test statistic=%.3f, p=%.3f' % (stat, p))\n",
    "\n",
    "# Interpret\n",
    "isSignificant(p,0.05)"
   ]
  },
  {
   "cell_type": "markdown",
   "id": "d43f3317-3c7c-482d-92c9-6c8ebe0f7a55",
   "metadata": {},
   "source": [
    "**_Host acceptance percentage:_**\n",
    "\n",
    "There is a statistically significant difference in the average overall rating based on a host's acceptance percentage. This is because the respective p-values were consistently less than the significance level of alpha = 0.05.\n",
    "\n",
    "A few explanations for this can come in the form of skewness in the data that resulted in the uneven distribution of datapoints. An example that further illustrates this is how having a 100% acceptance rate was something shared by 30% of all hosts. Our attempts of evenly distributing the groups were often hindered by the last interval in which all the hosts shared almost all maximum scores for their respective attribute. It was also evident from our exploratory data analysis boxplots and weak coefficient found in ourlinear regressions that acceptance is not a good predictor for overall rating. While this ANOVA test generated a statistically significant result, again repeating T-tests to find the specific interval and then analyzing just the listings in that interval to find any extraneous variables."
   ]
  },
  {
   "cell_type": "code",
   "execution_count": 50,
   "id": "ad37a797-76f1-41b9-ba4c-ee7d2daf3f01",
   "metadata": {
    "scrolled": true
   },
   "outputs": [
    {
     "name": "stdout",
     "output_type": "stream",
     "text": [
      "Test statistic=500.280, p=0.000\n",
      "Different distributions (reject H0)\n"
     ]
    }
   ],
   "source": [
    "# Superhost status\n",
    "# Generate three independent samples\n",
    "data1 = airbnb_data['review_scores_value'].loc[airbnb_data['host_is_superhost_map'] == 1]\n",
    "data0 = airbnb_data['review_scores_value'].loc[airbnb_data['host_is_superhost_map'] == 0]\n",
    "\n",
    "# Compare samples\n",
    "stat, p = f_oneway(data1, data0)\n",
    "print('Test statistic=%.3f, p=%.3f' % (stat, p))\n",
    "\n",
    "# Interpret\n",
    "isSignificant(p,0.05)"
   ]
  },
  {
   "cell_type": "markdown",
   "id": "e4e37d02-76a4-4c71-b32c-b789ef62b748",
   "metadata": {},
   "source": [
    "**_Superhost status:_**\n",
    "\n",
    "From the ANOVA test, we can observe a statistically significant difference in the average overall rating based on whether or not a host is a superhost or not. This is because the respective p-value is less than the significance level of alpha = 0.05.\n",
    "\n",
    "Out of all our linear regressions performed for host attributes, the model generated for superhost status had the greatest slope which shows that out of all the host attributes we explored, this variable was the best predictor for overall rating of an Airbnb listing. This one doesn't require individual T-tests as there are only two possible outcomes for this attribute. Based on this result, we can more reasonably conclude that hosts should try their best to achieve superhost status to improve the ratings of their listings. "
   ]
  },
  {
   "cell_type": "markdown",
   "id": "9a8ebe70-143a-4eb8-8f22-b1c72082c2aa",
   "metadata": {},
   "source": [
    "### *B. Listing Attributes*\n",
    "\n",
    "The listing attributes are neighborhood, number of guests accommodated, bedrooms, bathrooms, and amenities."
   ]
  },
  {
   "cell_type": "code",
   "execution_count": 51,
   "id": "4e70e87a-2c4d-489f-a843-878576571ddb",
   "metadata": {},
   "outputs": [
    {
     "name": "stdout",
     "output_type": "stream",
     "text": [
      "Test statistic=16.931, p=0.000\n",
      "Different distributions (reject H0)\n"
     ]
    }
   ],
   "source": [
    "# Neighborhood\n",
    "# generate three independent samples\n",
    "data0 = airbnb_data['review_scores_value'].loc[airbnb_data['neighbourhood_group_cleansed'] == 'Bronx']\n",
    "data1 = airbnb_data['review_scores_value'].loc[airbnb_data['neighbourhood_group_cleansed'] == 'Brooklyn']\n",
    "data2 = airbnb_data['review_scores_value'].loc[airbnb_data['neighbourhood_group_cleansed'] == 'Manhattan']\n",
    "data3 = airbnb_data['review_scores_value'].loc[airbnb_data['neighbourhood_group_cleansed'] == 'Queens']\n",
    "data4 = airbnb_data['review_scores_value'].loc[airbnb_data['neighbourhood_group_cleansed'] == 'Staten Island']\n",
    "\n",
    "# compare samples\n",
    "stat, p = f_oneway(data0, data1, data2, data3, data4)\n",
    "print('Test statistic=%.3f, p=%.3f' % (stat, p))\n",
    "\n",
    "#interpret\n",
    "isSignificant(p,0.05)"
   ]
  },
  {
   "cell_type": "markdown",
   "id": "547a8068-65a7-450f-811b-0e39eea44c90",
   "metadata": {},
   "source": [
    "**_Neighborhood:_**\n",
    "\n",
    "In the above analysis, there is a statistically significant difference in overall rating of the listing based on whether or not a specific amenity was present. This is because the respective p-value is less than the significance level of alpha = 0.05.\n",
    "\n",
    "This was an especially interesting listing attribute to see any visitor of New York City understands the drastically different experiences of living in the different bouroughs of the city. While this result was still significant, the test statistic is less than what we thought it would be. The results from further T-test analysis would be surprising especially if the listings in a less \"tourist-y\" area of New York had the higher rating Airbnbs."
   ]
  },
  {
   "cell_type": "code",
   "execution_count": 52,
   "id": "2780fc14-0aa7-4026-b985-18f07975e1a7",
   "metadata": {},
   "outputs": [
    {
     "name": "stdout",
     "output_type": "stream",
     "text": [
      "Test statistic=1.602, p=0.065\n",
      "Same distributions (fail to reject H0)\n"
     ]
    }
   ],
   "source": [
    "# Acommodates\n",
    "data0 = airbnb_data['review_scores_value'].loc[airbnb_data['accommodates'] == 2]\n",
    "data1 = airbnb_data['review_scores_value'].loc[airbnb_data['accommodates'] == 4]\n",
    "data2 = airbnb_data['review_scores_value'].loc[airbnb_data['accommodates'] == 1]\n",
    "data3 = airbnb_data['review_scores_value'].loc[airbnb_data['accommodates'] == 3]\n",
    "data4 = airbnb_data['review_scores_value'].loc[airbnb_data['accommodates'] == 6]\n",
    "data5 = airbnb_data['review_scores_value'].loc[airbnb_data['accommodates'] == 5]\n",
    "data6 = airbnb_data['review_scores_value'].loc[airbnb_data['accommodates'] == 8]\n",
    "data7 = airbnb_data['review_scores_value'].loc[airbnb_data['accommodates'] == 7]\n",
    "data8 = airbnb_data['review_scores_value'].loc[airbnb_data['accommodates'] == 10]\n",
    "data9 = airbnb_data['review_scores_value'].loc[airbnb_data['accommodates'] == 12]\n",
    "data10 = airbnb_data['review_scores_value'].loc[airbnb_data['accommodates'] == 16]\n",
    "data11 = airbnb_data['review_scores_value'].loc[airbnb_data['accommodates'] == 9]\n",
    "data12 = airbnb_data['review_scores_value'].loc[airbnb_data['accommodates'] == 13]\n",
    "data13 = airbnb_data['review_scores_value'].loc[airbnb_data['accommodates'] == 11]\n",
    "data14 = airbnb_data['review_scores_value'].loc[airbnb_data['accommodates'] == 14]\n",
    "data15 = airbnb_data['review_scores_value'].loc[airbnb_data['accommodates'] == 15]\n",
    "\n",
    "# compare samples\n",
    "stat, p = f_oneway(data0, data1, data2, data3, data4, data5, data6, data7, data8, data9, data10, data11, data12, data13, data14, data15)\n",
    "print('Test statistic=%.3f, p=%.3f' % (stat, p))\n",
    "\n",
    "#interpret\n",
    "isSignificant(p,0.05)"
   ]
  },
  {
   "cell_type": "markdown",
   "id": "994c2e74-b00b-47e6-b701-9e48f3c87517",
   "metadata": {},
   "source": [
    "**_Number of guests accommodated:_**\n",
    "\n",
    "There is not a statistically significant difference in average overall rating based on the number of acommodates. This is because the respective p-value is greater than the significance level of alpha = 0.05.\n",
    "\n",
    "This attribute was something we didn't have a prior indication or reason to believe would positively or negatively influence the rating as this depends entirely on the size of travel for the tourists and renters booking this place. This is also why were not particularly surprised that there was no statistically signficiant difference in the average ratings of the listings based on the number of guests they accomodate for. "
   ]
  },
  {
   "cell_type": "code",
   "execution_count": 53,
   "id": "14ca9699-299d-4b70-ad01-dd578b3e95d1",
   "metadata": {},
   "outputs": [
    {
     "name": "stdout",
     "output_type": "stream",
     "text": [
      "Test statistic=0.353, p=0.957\n",
      "Same distributions (fail to reject H0)\n"
     ]
    }
   ],
   "source": [
    "# Bedrooms\n",
    "data0 = airbnb_data['review_scores_value'].loc[airbnb_data['bedrooms'] == 1.0]\n",
    "data1 = airbnb_data['review_scores_value'].loc[airbnb_data['bedrooms'] == 2.0]\n",
    "data2 = airbnb_data['review_scores_value'].loc[airbnb_data['bedrooms'] == 3.0]\n",
    "data3 = airbnb_data['review_scores_value'].loc[airbnb_data['bedrooms'] == 4.0]\n",
    "data4 = airbnb_data['review_scores_value'].loc[airbnb_data['bedrooms'] == 5.0]\n",
    "data5 = airbnb_data['review_scores_value'].loc[airbnb_data['bedrooms'] == 6.0]\n",
    "data6 = airbnb_data['review_scores_value'].loc[airbnb_data['bedrooms'] == 7.0]\n",
    "data7 = airbnb_data['review_scores_value'].loc[airbnb_data['bedrooms'] == 8.0]\n",
    "data8 = airbnb_data['review_scores_value'].loc[airbnb_data['bedrooms'] == 9.0]\n",
    "data9 = airbnb_data['review_scores_value'].loc[airbnb_data['bedrooms'] == 14.0]\n",
    "\n",
    "# compare samples\n",
    "stat, p = f_oneway(data0, data1, data2, data3, data4, data5, data6, data7, data8, data9)\n",
    "print('Test statistic=%.3f, p=%.3f' % (stat, p))\n",
    "\n",
    "#interpret\n",
    "isSignificant(p,0.05)"
   ]
  },
  {
   "cell_type": "markdown",
   "id": "842b1606-fcd0-4e03-830f-5007fe274b06",
   "metadata": {},
   "source": [
    "**_Number of bedrooms:_**\n",
    "\n",
    "There is not a statistically significant difference in average overall rating based on the number of bedrooms. This is because the respective p-value is greater than the significance level of alpha = 0.05.\n",
    "\n",
    "This attribute is also highly dependent on the specific preference of the users who book them. We are again not surprised by the lack of a statistically significant difference in average ratings as grouped by this variable."
   ]
  },
  {
   "cell_type": "code",
   "execution_count": 54,
   "id": "5b319d53-1472-4edc-ba9a-94aaf0f26a64",
   "metadata": {},
   "outputs": [
    {
     "name": "stdout",
     "output_type": "stream",
     "text": [
      "Test statistic=5.356, p=0.000\n",
      "Different distributions (reject H0)\n"
     ]
    }
   ],
   "source": [
    "# Bathrooms\n",
    "data0 = airbnb_data['review_scores_value'].loc[airbnb_data['bathrooms'] == 1.0]\n",
    "data1 = airbnb_data['review_scores_value'].loc[airbnb_data['bathrooms'] == 2.0]\n",
    "data2 = airbnb_data['review_scores_value'].loc[airbnb_data['bathrooms'] == 1.5]\n",
    "data3 = airbnb_data['review_scores_value'].loc[airbnb_data['bathrooms'] == 2.5]\n",
    "data4 = airbnb_data['review_scores_value'].loc[airbnb_data['bathrooms'] == 3.0]\n",
    "data5 = airbnb_data['review_scores_value'].loc[airbnb_data['bathrooms'] == 0.0]\n",
    "data6 = airbnb_data['review_scores_value'].loc[airbnb_data['bathrooms'] == 3.5]\n",
    "data7 = airbnb_data['review_scores_value'].loc[airbnb_data['bathrooms'] == 4.0]\n",
    "data8 = airbnb_data['review_scores_value'].loc[airbnb_data['bathrooms'] == 0.5]\n",
    "data9 = airbnb_data['review_scores_value'].loc[airbnb_data['bathrooms'] == 4.5]\n",
    "data10 = airbnb_data['review_scores_value'].loc[airbnb_data['bathrooms'] == 5.0]\n",
    "data11 = airbnb_data['review_scores_value'].loc[airbnb_data['bathrooms'] == 8.0]\n",
    "data12 = airbnb_data['review_scores_value'].loc[airbnb_data['bathrooms'] == 5.5]\n",
    "data13 = airbnb_data['review_scores_value'].loc[airbnb_data['bathrooms'] == 7.0]\n",
    "data14 = airbnb_data['review_scores_value'].loc[airbnb_data['bathrooms'] == 15.5]\n",
    "data15 = airbnb_data['review_scores_value'].loc[airbnb_data['bathrooms'] == 6.5]\n",
    "\n",
    "\n",
    "# compare samples\n",
    "stat, p = f_oneway(data0, data1, data2, data3, data4, data5, data6, data7, data8, data9, data10, data11, data12, data13, data14, data15)\n",
    "print('Test statistic=%.3f, p=%.3f' % (stat, p))\n",
    "\n",
    "#interpret\n",
    "isSignificant(p,0.05)"
   ]
  },
  {
   "cell_type": "markdown",
   "id": "afa57652-48f1-4aff-bf2b-0e13d850cc25",
   "metadata": {},
   "source": [
    "**_Number of bathrooms:_**\n",
    "\n",
    "Our analysis demonstrates that there is a statistically significant difference in average overall rating based on the number of bathrooms. This is because the respective p-value is less than the significance level of alpha = 0.05.\n",
    "\n",
    "Originally, we were expecting a similar outcome as when we performed the ANOVA test on number of accomodates and number of bedrooms since the number of bathrooms is usually directly correlated with the number of accomodates. However, we also knew ahead of time that the number of bedrooms is not so directly related with the size of the party of people booking it as bedroom number and number of accomodates is which could lead to a variation in Airbnb experience. For example, if many people are responsible for sharing a small number of bathrooms that would be a less enjoyable experience than if that ratio were decreased. Based on this significant result from the ANOVA test, a possible future direction of study could be analyze the ratio between the number of bathrooms and the number of accomodates a listing has and seeing if that's a good predictor for overall rating. "
   ]
  },
  {
   "cell_type": "code",
   "execution_count": 55,
   "id": "58ac9dab-bed5-4e5e-8f4a-70a90823aa2c",
   "metadata": {},
   "outputs": [
    {
     "name": "stdout",
     "output_type": "stream",
     "text": [
      "Test statistic=11.443, p=0.000\n",
      "Different distributions (reject H0)\n"
     ]
    }
   ],
   "source": [
    "# Amenities\n",
    "data0 = airbnb_data['review_scores_value'].loc[airbnb_data['has_wifi'] == 1]\n",
    "data1 = airbnb_data['review_scores_value'].loc[airbnb_data['has_parking'] == 1]\n",
    "data2 = airbnb_data['review_scores_value'].loc[airbnb_data['has_pool'] == 1]\n",
    "data3 = airbnb_data['review_scores_value'].loc[airbnb_data['kitchen_access'] == 1]\n",
    "data4 = airbnb_data['review_scores_value'].loc[airbnb_data['has_ac'] == 1]\n",
    "\n",
    "# compare samples\n",
    "stat, p = f_oneway(data0, data1, data2, data3, data4)\n",
    "print('Test statistic=%.3f, p=%.3f' % (stat, p))\n",
    "\n",
    "#interpret\n",
    "isSignificant(p,0.05)"
   ]
  },
  {
   "cell_type": "markdown",
   "id": "04ebd980-f33a-4078-883c-ecad08540a9d",
   "metadata": {},
   "source": [
    "**_Amenities:_**\n",
    "\n",
    "In the above analysis, there is a statistically significant difference in overall rating of the listing based on whether or not a specific amenity was present. This is because the respective p-value is less than the significance level of alpha = 0.05.\n",
    "\n",
    "Amenities range from big to small and some are more customizable than others (such as having a wifi versus having a kitchen). For the scope of this project, only the top 5 amneties were analyzed due to the sheer volume of different amneties and in the future a possible study that could stem off would be to expand on this section especially given the significant result it deduced."
   ]
  },
  {
   "cell_type": "markdown",
   "id": "6931f646-dac7-4591-8854-435c708232cc",
   "metadata": {},
   "source": [
    "### *C. Price*"
   ]
  },
  {
   "cell_type": "code",
   "execution_count": 56,
   "id": "87101ed4-a990-4c92-a133-87092592b24f",
   "metadata": {},
   "outputs": [
    {
     "name": "stdout",
     "output_type": "stream",
     "text": [
      "Test statistic=11.875, p=0.000\n",
      "Different distributions (reject H0)\n"
     ]
    }
   ],
   "source": [
    "# Price\n",
    "data0 = airbnb_data['review_scores_value'].loc[airbnb_data['price_interval'] == '0-10']\n",
    "data1 = airbnb_data['review_scores_value'].loc[airbnb_data['price_interval'] == '10-20']\n",
    "data2 = airbnb_data['review_scores_value'].loc[airbnb_data['price_interval'] == '20-30']\n",
    "data3 = airbnb_data['review_scores_value'].loc[airbnb_data['price_interval'] == '30-40']\n",
    "data4 = airbnb_data['review_scores_value'].loc[airbnb_data['price_interval'] == '40-50']\n",
    "data5 = airbnb_data['review_scores_value'].loc[airbnb_data['price_interval'] == '50-60']\n",
    "data6 = airbnb_data['review_scores_value'].loc[airbnb_data['price_interval'] == '60-70']\n",
    "data7 = airbnb_data['review_scores_value'].loc[airbnb_data['price_interval'] == '70-80']\n",
    "data8 = airbnb_data['review_scores_value'].loc[airbnb_data['price_interval'] == '80-90']\n",
    "data9 = airbnb_data['review_scores_value'].loc[airbnb_data['price_interval'] == '90-100']\n",
    "                                               \n",
    "\n",
    "# compare samples\n",
    "stat, p = f_oneway(data0, data1, data2, data3, data4, data5, data6, data7, data8, data9)\n",
    "print('Test statistic=%.3f, p=%.3f' % (stat, p))\n",
    "\n",
    "#interpret\n",
    "isSignificant(p,0.05)"
   ]
  },
  {
   "cell_type": "markdown",
   "id": "4314935e-c127-4340-947d-a7ca807a1b4c",
   "metadata": {},
   "source": [
    "There is a statistically significant difference in average overall rating based on the price of the listing. This is because the respective p-value is less than the significance level of alpha = 0.05.\n",
    "\n",
    "Price was one the only binned continuous variable that actually had a wide range that it could be categorized by percentiles of 10 from it's minimum value (a very low value of 13 dollars) to the maximum value (nearly 5000 dollars). Due to this wide spread of data, the results for this ANOVA test were more reliable than the others and it is not unexpected that there is a difference in average rating based on the price percentile of a listing. Further analysis should be done to identify not only which percentile of price differed from each other but also to observe whether or not there's a trend in the ratings after it has been grouped by price percentile. Please reference our boxplots in our appendix."
   ]
  },
  {
   "cell_type": "markdown",
   "id": "c7cf67db-5b62-4b99-b5ee-258e473a2ab3",
   "metadata": {},
   "source": [
    "### *D. Overall Airbnb Rating and Booking Percentage*"
   ]
  },
  {
   "cell_type": "code",
   "execution_count": 57,
   "id": "f693ba81-d7f2-468f-8a3b-579aba5505ad",
   "metadata": {},
   "outputs": [
    {
     "name": "stdout",
     "output_type": "stream",
     "text": [
      "Test statistic=24.534, p=0.000\n",
      "Different distributions (reject H0)\n"
     ]
    }
   ],
   "source": [
    "data1 = airbnb_data['percent_booked'].loc[airbnb_data['rating_interval'] == '0-10']\n",
    "data2 = airbnb_data['percent_booked'].loc[airbnb_data['rating_interval'] == '10-20']\n",
    "data3 = airbnb_data['percent_booked'].loc[airbnb_data['rating_interval'] == '20-30']\n",
    "data4 = airbnb_data['percent_booked'].loc[airbnb_data['rating_interval'] == '30-40']\n",
    "data5 = airbnb_data['percent_booked'].loc[airbnb_data['rating_interval'] == '40-50']\n",
    "data6 = airbnb_data['percent_booked'].loc[airbnb_data['rating_interval'] == '50-60']\n",
    "data7 = airbnb_data['percent_booked'].loc[airbnb_data['rating_interval'] == '60-70']\n",
    "data8 = airbnb_data['percent_booked'].loc[airbnb_data['rating_interval'] == '70-100']\n",
    "\n",
    "# compare samples\n",
    "stat, p = f_oneway(data1, data2, data3, data4, data5, data6, data7, data8)\n",
    "print('Test statistic=%.3f, p=%.3f' % (stat, p))\n",
    "\n",
    "#interpret\n",
    "isSignificant(p,0.05)"
   ]
  },
  {
   "cell_type": "markdown",
   "id": "ba8ecb5f-ca53-438a-8e5f-809d90e8444f",
   "metadata": {},
   "source": [
    "As shown above, there is a statistically significant difference in average booking percentage based on the overall rating of the listing. This is because the respective p-value is less than the significance level of alpha = 0.05.\n",
    "\n",
    "This result was expected and it further demonstrates the signifcance of our project. For many people in the city who consider their Airbnb a source of income, maximizing revenue is the end goal. As a way to estimate listing popularity and it's relative direct relationship to generated revenue with respect to the listing's cost of maintanence, booking percentage for the next upcoming year was evaluated. This data should, however, be further analyzed for a possible trend before concluded by hosts to optimize listing reviews to maximize their earnings."
   ]
  },
  {
   "cell_type": "markdown",
   "id": "85c21aa9",
   "metadata": {},
   "source": [
    "## Interpretation and Conclusions"
   ]
  },
  {
   "cell_type": "markdown",
   "id": "82bc2ad1",
   "metadata": {},
   "source": [
    "We started off our analyses by considering the individual relationship between each variable and the overall review rating out of 5 stars of an Airbnb. The attributes we considered were percentage of guest messages that the host responded to, the percentage of booking requests that the host accepted, whether the host is listed as a superhost by Airbnb, the neighborhood in which the listing is located, the number of guests that the listing can accommodate, the number of bedrooms, the number of bathrooms, whether the listing was pet-friendly, the presence of wifi, the availability of parking, the presence of a pool, the presence of a kitchen, the availability of air conditioning, and the price per night. whether it offered each of the amenities of being pet-friendly, having WiFi, having parking, having a pool, having a kitchen, and having air conditioning, and the price per night. \n",
    "\n",
    "For each of these variables, we calculated general summary statistics (mean, median, and standard deviation of the overall review rating) to evaluate the big-picture distribution. We then created scatterplots with a fitted linear regression line and calculated covariance and Pearson correlation statistics to reach more quantitative conclusions on each attribute’s relationship with overall rating. The r^2 values and slopes were almost negligible across the board, ranging from 0 at worst to 0.047 at best for r^2 and 0.228 at best for slope. Likewise, the Pearson correlation values were extraordinarily close to 0, with the maximum value obtained being 0.106. What these results told us is that individual linear regression is a poor model for predicting overall review rating.\n",
    "\n",
    "With these results in mind, we moved forward by attempting multivariable analyses, using both a linear fit and a logistic fit. The application of multivariable analysis makes sense considering that there are many factors that play into a guest’s experience at an Airbnb, and a single attribute would most likely not have a significant impact on its own. We opted to group variables as either host attributes or listing attributes, while leaving price as an individual predictor. By separating host behavior attributes and tangible listing qualities, we hoped to be able to give more specific advice to Airbnb hosts as to where they should try to make the most improvements - either in their own activity, or in the rental property itself. The multivariable linear regression r^2 values (0.057 and 0.02 for host attributes and listing attributes, respectively) were surprisingly still negligible and in fact lower than a few of the individual linear regression r^2 values (but still higher than most). This confirmed that a linear fit was simply not appropriate for our data, and, as such, we pivoted towards a logistic model instead.\n",
    "\n",
    "To set up for modelling, we first corrected our poor distribution of data by grouping the data points into quantiles.  We then performed the logistic regression on host attributes, listing attributes, and price to predict whether an Airbnb listing would receive a below or above median rating. For the host attributes group, the mean cross-validated accuracy of 0.610, was a fair amount above the baseline accuracy of 0.495, suggesting that host attributes do impact the overall review rating of the listing. For the listing attributes group, the baseline was again 0.495 and the mean cross-validated accuracy was 0.520, which is higher than the baseline value but by a lesser amount than host attributes’ accuracy. Finally, the mean cross-validated score for price as a predictor of rating, 0.547, was also higher than the baseline accuracy of 0.495. To more conclusively tell whether the results of our logistic model predict overall rating in a meaningful manner, we should further analyze whether there is a statistically significant difference between the baseline and cross-validated accuracies. However, from our results, we can draw the preliminary conclusion that compared to a linear model, a logistic model better indicates the presence of a significant relationship between host attributes, listing attributes, price, and overall review rating of an Airbnb listing.\n",
    "\n",
    "We then applied all of the previous steps to our second research question: how do ratings in turn influence the booking rates of listings? The predictive variable for this portion of analysis is now the overall review rating of an Airbnb listing, while the variable we’re trying to predict is the percentage of nights the listing is booked in the coming year, at the time the data was scraped. Calculations of covariance, correlation, and r^2 of a linear regression line returned values very close to 0, indicating that a linear model is not the right fit for this data. However, the logistic regression returned more significant results, as the mean cross-validated accuracy of 0.533, was greater than the baseline accuracy of 0.498. Although this difference is not large, it tells us that rating may have a slight influence on booking performance.\n",
    "\n",
    "Finally, we performed the ANOVA test to evaluate the significance of our results. The number of guests accommodated and the number of bedrooms failed to reject the null hypothesis, indicating that these attributes do not cause a significant discrepancy in ratings. Originally, we were expecting a similar outcome for the number of bathrooms, since we would expect the number of bathrooms to also be related to the number of accommodates, but the number of bathrooms variable successfully rejected the null hypothesis. A possible explanation could be that, while bedrooms are more likely to be directly related with the number accommodated due to the inherent need of bed space, the number of bathrooms may not always follow the same relationship. Likewise, if a large party needs to share a small number of bathrooms, the overall experience would likely be less enjoyable than if that ratio were decreased. Based on this significant result from the ANOVA test, a possible future direction of study could be to analyze the ratio between the number of bathrooms and the number of accommodations a listing has and see if it could be a good predictor for overall rating. Many of the limitations found in our variables came from the clustering of our overall rating data to begin with. Even after attempting to split the ratings into bins determined by quantile, around 30% of all listings in this dataset shared the maximum rating of 5.00. \n",
    "\n",
    "While we did not obtain results with as much significance as we expected, we can definitively say that a linear model is non-predictive for all of our analyses. On the other hand, the logistic models and ANOVA test do appear to demonstrate predictive power towards the variables we analyzed on overall Airbnb review rating, and of overall review rating on booking percentage. Based on the weakness of our results, we would advise hosts that although attributes like host behavior, listing attributes, and pricing all influence the rating of listings, there seem to be a number of extraneous factors at play that reduce their direct impact on reviewers’ ratings. It would not be in a host’s best interests to invest large amounts of money into their properties simply to raise their rating (for instance, buying an air conditioning unit just to offer that amenity), because they may not observe a direct translation of their investment into increased profit. However, it is safe to say that the variables analyzed do have some bearing on the overall rating of an Airbnb listing, and the rating does have some impact on the booking performance of the listing. As such, hosts should still pay attention to the quality of their communication and the services offered by their rental properties. \n",
    "\n",
    "With regards to other factors that might be contributing to an Airbnb’s rating and booking performance, we note that, with consumer reviews of any product or service, opinions and judgments can be highly subjective. In addition, not every person who stays at an Airbnb is required to rate the listing after their stay, so our dataset is naturally incomplete and only a sample of all renters’ experiences with a listing. Another explanation for the lack of significant results is that an Airbnb stay is closely associated with the renter’s experience on their specific trip to New York City; independent factors such as poor weather or cancellations may contribute to a negative experience that is not necessarily the fault of the Airbnb or host. Finally, as noted in our data limitations section the datasets we analyzed had a number of inherent flaws, which limit our ability to obtain significant results."
   ]
  },
  {
   "cell_type": "markdown",
   "id": "67ce5417",
   "metadata": {},
   "source": [
    "## Data Limitations"
   ]
  },
  {
   "cell_type": "markdown",
   "id": "d5b32b79",
   "metadata": {},
   "source": [
    "* Our Airbnb dataset is inherently limited because it represents a scraping of the Airbnb website at a particular date and time (September 1 2021, exact time undisclosed). The instances reflect listings on Airbnb’s website at that moment, which may not be available thereafter.\n",
    "    * This is particularly relevant for the calendars dataset, because bookings are continuously being made. A listing that may have all 365 days available at the time the data was compiled may be booked out for three weeks an hour later. However, because a dynamic/constantly updating dataframe is beyond the scope of this course, we must generalize that listings with more nights booked out in the next 365 days at any given time are more popular and desirable.\n",
    "    * Other attributes that are affected by the temporal limitations of the data include the host response and acceptance percentages, and the rating of each listing. These are dynamic variables in real life and change as hosts interact with guests and guests leave ratings.\n",
    "    * The amenities offered by each Airbnb listing and its set price and minimum night stay are also subject to change; however, this happens infrequently and the changes are usually minimal, so this limitation can be safely ignored.<br><br>\n",
    "* A significant limitation of the calendars dataset is that the Airbnb calendar doesn’t differentiate between a night that has been booked versus a night that was set as unavailable by the host. Therefore, our data may falsely interpret that a listing was very popular and booked out when in reality those nights were already marked unavailable. However, it’s uncommon for hosts to refuse to rent out their listings for a significant number of nights, especially in high-demand cities such as New York City where not renting is at the host’s expense. In addition, because data on listing performance/profitability is not accessible from Airbnb’s website (this information is considered private to hosts), the best representation of Airbnb success we can obtain is by extrapolating from calendar availability."
   ]
  },
  {
   "cell_type": "markdown",
   "id": "54e0a26c",
   "metadata": {},
   "source": [
    "## Looking to the Future"
   ]
  },
  {
   "cell_type": "markdown",
   "id": "361fe596",
   "metadata": {},
   "source": [
    "As Airbnb continues to grow and expand its presence and offerings in locations around the world, its data offers a plethora of analytical opportunities beyond the questions we have explored in this project. \n",
    "\n",
    "Our original listings dataset included a “description” column containing each Airbnb’s written description displayed on the website, provided by the host. While we chose to eliminate this column and focus on other variables as more likely predictors of overall Airbnb rating, it could be interesting to examine the wording of these descriptions for any patterns,  such as frequently used phrases or adjectives. If there are noticeable trends in the descriptions, we could explore whether including certain words (for instance, “spacious” or “luxury”) have any correlation to higher booking rates.\n",
    "\n",
    "We were also originally interested in analyzing specific subcategories of ratings based on the following six columns: “review_scores_accuracy”, “review_scores_cleanliness”, “review_scores_checkin”, “review_scores_communication”, “review_scores_location”, and “review_scores_value”. Each of these variables is a subdivision of an Airbnb listing’s overall “review_scores_rating”, which we did analyze. On Airbnb’s website, users can find the individual ratings for cleanliness, check-in, communication, accuracy, location, and value displayed in a section further down on a listing’s webpage. However, we ultimately decided that this would not fit within the scope of our questions and chose instead to focus on the combined rating to consider the holistic impact of host attributes, listing attributes, and price. Moreover, the overall score is the only reflection of ratings that can be seen from the search page. \n",
    "\n",
    "If given more time and space for a more comprehensive project in the future, we could create a heat map between the different rating subcategories and the variables analyzed in our project. This visualization would allow us to identify whether a certain attribute is particularly important to a certain type of rating, which could help the host identify ways to improve specific aspects of their Airbnb rating. "
   ]
  },
  {
   "cell_type": "markdown",
   "id": "352328f8",
   "metadata": {},
   "source": [
    "## Source Code"
   ]
  },
  {
   "cell_type": "markdown",
   "id": "9edb425c",
   "metadata": {},
   "source": [
    "The two original datasets used for this project, \"listings.csv\" and \"calendars.csv\", can be found in the following Google drive folder:\n",
    "[Listings and calendar data from New York City, NY as of September 1 2021](https://drive.google.com/drive/folders/1BTHUg-0vB16RbKncugfr_QXhiBJmoitg?usp=sharing). They have also been included in the zip file uploaded in our CMS submission."
   ]
  },
  {
   "cell_type": "markdown",
   "id": "560c8a58",
   "metadata": {},
   "source": [
    "## Acknowledgements"
   ]
  },
  {
   "cell_type": "markdown",
   "id": "e8fe8e16",
   "metadata": {},
   "source": [
    "We would like to thank Professor Wilkens first and foremost for teaching an informational and engaging course that we all greatly enjoyed. INFO 2950 has been both challenging and rewarding this semester, and we were so glad to have been able to attend lectures with Professor Wilkens in person. We would also like to express our gratitude to the course TAs. Your feedback during office hours and in response to our project phase questions has been invaluable to us, and we really appreciate all of your support in general through all aspects of the course!"
   ]
  }
 ],
 "metadata": {
  "kernelspec": {
   "display_name": "Python 3",
   "language": "python",
   "name": "python3"
  },
  "language_info": {
   "codemirror_mode": {
    "name": "ipython",
    "version": 3
   },
   "file_extension": ".py",
   "mimetype": "text/x-python",
   "name": "python",
   "nbconvert_exporter": "python",
   "pygments_lexer": "ipython3",
   "version": "3.8.8"
  }
 },
 "nbformat": 4,
 "nbformat_minor": 5
}
